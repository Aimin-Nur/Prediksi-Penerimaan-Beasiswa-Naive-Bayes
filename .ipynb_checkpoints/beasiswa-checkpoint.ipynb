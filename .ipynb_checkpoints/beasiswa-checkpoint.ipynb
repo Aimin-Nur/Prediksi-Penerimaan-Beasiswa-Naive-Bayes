{
 "cells": [
  {
   "cell_type": "markdown",
   "id": "016e020f-b15a-44f6-9f96-3c2c1cb16a7f",
   "metadata": {},
   "source": [
    "# Prediksi Penerimaan Beasiswa - Naive Byes"
   ]
  },
  {
   "cell_type": "code",
   "execution_count": 1,
   "id": "03609add-a985-4e71-a6a9-e2ed88e913ff",
   "metadata": {
    "tags": []
   },
   "outputs": [],
   "source": [
    "import pandas as pd\n",
    "import matplotlib.pyplot as plt\n",
    "import seaborn as sns\n",
    "import numpy as np"
   ]
  },
  {
   "cell_type": "code",
   "execution_count": 2,
   "id": "da2bd18a-f925-48ed-a48c-b868177e918a",
   "metadata": {
    "tags": []
   },
   "outputs": [],
   "source": [
    "df = pd.read_csv('beasiswa.csv')"
   ]
  },
  {
   "cell_type": "code",
   "execution_count": 3,
   "id": "b4765322-5bdf-47b3-80af-8a3ca21bfada",
   "metadata": {
    "tags": []
   },
   "outputs": [
    {
     "data": {
      "text/html": [
       "<div>\n",
       "<style scoped>\n",
       "    .dataframe tbody tr th:only-of-type {\n",
       "        vertical-align: middle;\n",
       "    }\n",
       "\n",
       "    .dataframe tbody tr th {\n",
       "        vertical-align: top;\n",
       "    }\n",
       "\n",
       "    .dataframe thead th {\n",
       "        text-align: right;\n",
       "    }\n",
       "</style>\n",
       "<table border=\"1\" class=\"dataframe\">\n",
       "  <thead>\n",
       "    <tr style=\"text-align: right;\">\n",
       "      <th></th>\n",
       "      <th>No</th>\n",
       "      <th>Nama Lengkap</th>\n",
       "      <th>Prodi</th>\n",
       "      <th>Jenis Kelamin</th>\n",
       "      <th>Jarak Tempat Tinggal kekampus (Km)</th>\n",
       "      <th>Asal Sekolah</th>\n",
       "      <th>Tahun Lulus</th>\n",
       "      <th>SKS</th>\n",
       "      <th>Ikut Organisasi</th>\n",
       "      <th>Ikut UKM</th>\n",
       "      <th>IPK</th>\n",
       "      <th>IPK2</th>\n",
       "      <th>Pekerjaan Orang Tua</th>\n",
       "      <th>Penghasilan</th>\n",
       "      <th>Tanggungan</th>\n",
       "      <th>Status Beasiswa</th>\n",
       "    </tr>\n",
       "  </thead>\n",
       "  <tbody>\n",
       "    <tr>\n",
       "      <th>0</th>\n",
       "      <td>1</td>\n",
       "      <td>GALAN PRASETIO</td>\n",
       "      <td>D III Keperawatan | Reguler</td>\n",
       "      <td>L</td>\n",
       "      <td>Dekat</td>\n",
       "      <td>SMAN 1 GEDONG TATAAN</td>\n",
       "      <td>2020</td>\n",
       "      <td>21</td>\n",
       "      <td>Ikut</td>\n",
       "      <td>Ikut</td>\n",
       "      <td>3,57</td>\n",
       "      <td>Sangat Baik</td>\n",
       "      <td>Wiraswasta</td>\n",
       "      <td>Sedang</td>\n",
       "      <td>4</td>\n",
       "      <td>NaN</td>\n",
       "    </tr>\n",
       "    <tr>\n",
       "      <th>1</th>\n",
       "      <td>2</td>\n",
       "      <td>FINGKY RANDIANSYAH</td>\n",
       "      <td>D III Keperawatan | Reguler</td>\n",
       "      <td>L</td>\n",
       "      <td>Dekat</td>\n",
       "      <td>SMK HAMPAR BAIDURI</td>\n",
       "      <td>2020</td>\n",
       "      <td>21</td>\n",
       "      <td>Tidak</td>\n",
       "      <td>Ikut</td>\n",
       "      <td>2,95</td>\n",
       "      <td>Baik</td>\n",
       "      <td>Buruh</td>\n",
       "      <td>Sedang</td>\n",
       "      <td>2</td>\n",
       "      <td>NaN</td>\n",
       "    </tr>\n",
       "    <tr>\n",
       "      <th>2</th>\n",
       "      <td>3</td>\n",
       "      <td>ADELIA PANE</td>\n",
       "      <td>D III Keperawatan | Reguler</td>\n",
       "      <td>P</td>\n",
       "      <td>Dekat</td>\n",
       "      <td>SMK HAMPAR BAIDURI</td>\n",
       "      <td>2020</td>\n",
       "      <td>21</td>\n",
       "      <td>Tidak</td>\n",
       "      <td>Ikut</td>\n",
       "      <td>3,67</td>\n",
       "      <td>Sangat Baik</td>\n",
       "      <td>Petani</td>\n",
       "      <td>Sedang</td>\n",
       "      <td>4</td>\n",
       "      <td>NaN</td>\n",
       "    </tr>\n",
       "    <tr>\n",
       "      <th>3</th>\n",
       "      <td>4</td>\n",
       "      <td>DWI HANDOKO</td>\n",
       "      <td>D III Keperawatan | Reguler</td>\n",
       "      <td>L</td>\n",
       "      <td>Dekat</td>\n",
       "      <td>SMA MA'ARIF NU BUMIRESTU</td>\n",
       "      <td>2020</td>\n",
       "      <td>21</td>\n",
       "      <td>Tidak</td>\n",
       "      <td>Ikut</td>\n",
       "      <td>3,19</td>\n",
       "      <td>Baik</td>\n",
       "      <td>Wiraswasta</td>\n",
       "      <td>Tinggi</td>\n",
       "      <td>2</td>\n",
       "      <td>NaN</td>\n",
       "    </tr>\n",
       "    <tr>\n",
       "      <th>4</th>\n",
       "      <td>5</td>\n",
       "      <td>DESTRI FERAWANTI GUSTINI</td>\n",
       "      <td>D III Keperawatan | Reguler</td>\n",
       "      <td>P</td>\n",
       "      <td>Jauh</td>\n",
       "      <td>SMA 2 NEGERI AGUNG</td>\n",
       "      <td>2020</td>\n",
       "      <td>21</td>\n",
       "      <td>Tidak</td>\n",
       "      <td>Ikut</td>\n",
       "      <td>3,19</td>\n",
       "      <td>Baik</td>\n",
       "      <td>Wiraswasta</td>\n",
       "      <td>Sedang</td>\n",
       "      <td>2</td>\n",
       "      <td>NaN</td>\n",
       "    </tr>\n",
       "  </tbody>\n",
       "</table>\n",
       "</div>"
      ],
      "text/plain": [
       "   No              Nama Lengkap                        Prodi Jenis Kelamin  \\\n",
       "0   1            GALAN PRASETIO  D III Keperawatan | Reguler             L   \n",
       "1   2        FINGKY RANDIANSYAH  D III Keperawatan | Reguler             L   \n",
       "2   3               ADELIA PANE  D III Keperawatan | Reguler             P   \n",
       "3   4               DWI HANDOKO  D III Keperawatan | Reguler             L   \n",
       "4   5  DESTRI FERAWANTI GUSTINI  D III Keperawatan | Reguler             P   \n",
       "\n",
       "  Jarak Tempat Tinggal kekampus (Km)              Asal Sekolah  Tahun Lulus  \\\n",
       "0                              Dekat      SMAN 1 GEDONG TATAAN         2020   \n",
       "1                              Dekat        SMK HAMPAR BAIDURI         2020   \n",
       "2                              Dekat        SMK HAMPAR BAIDURI         2020   \n",
       "3                              Dekat  SMA MA'ARIF NU BUMIRESTU         2020   \n",
       "4                               Jauh        SMA 2 NEGERI AGUNG         2020   \n",
       "\n",
       "   SKS Ikut Organisasi Ikut UKM   IPK         IPK2 Pekerjaan Orang Tua  \\\n",
       "0   21            Ikut     Ikut  3,57  Sangat Baik          Wiraswasta   \n",
       "1   21           Tidak     Ikut  2,95         Baik               Buruh   \n",
       "2   21           Tidak     Ikut  3,67  Sangat Baik              Petani   \n",
       "3   21           Tidak     Ikut  3,19         Baik          Wiraswasta   \n",
       "4   21           Tidak     Ikut  3,19         Baik          Wiraswasta   \n",
       "\n",
       "  Penghasilan  Tanggungan  Status Beasiswa  \n",
       "0      Sedang           4              NaN  \n",
       "1      Sedang           2              NaN  \n",
       "2      Sedang           4              NaN  \n",
       "3      Tinggi           2              NaN  \n",
       "4      Sedang           2              NaN  "
      ]
     },
     "execution_count": 3,
     "metadata": {},
     "output_type": "execute_result"
    }
   ],
   "source": [
    "df.head()"
   ]
  },
  {
   "cell_type": "markdown",
   "id": "b92cfee5-518f-400f-8243-698afe207731",
   "metadata": {
    "jp-MarkdownHeadingCollapsed": true,
    "tags": []
   },
   "source": [
    "### Data Cleaning"
   ]
  },
  {
   "cell_type": "code",
   "execution_count": 4,
   "id": "7c9dbd0b-8bd9-4c24-82c4-8c6e5fbaa91d",
   "metadata": {
    "tags": []
   },
   "outputs": [
    {
     "data": {
      "text/plain": [
       "No                                      0\n",
       "Nama Lengkap                            0\n",
       "Prodi                                   0\n",
       "Jenis Kelamin                           0\n",
       "Jarak Tempat Tinggal kekampus (Km)      0\n",
       "Asal Sekolah                            0\n",
       "Tahun Lulus                             0\n",
       "SKS                                     0\n",
       "Ikut Organisasi                         0\n",
       "Ikut UKM                                0\n",
       "IPK                                     0\n",
       "IPK2                                    0\n",
       "Pekerjaan Orang Tua                     0\n",
       "Penghasilan                             0\n",
       "Tanggungan                              0\n",
       "Status Beasiswa                       596\n",
       "dtype: int64"
      ]
     },
     "execution_count": 4,
     "metadata": {},
     "output_type": "execute_result"
    }
   ],
   "source": [
    "df.isna().sum()"
   ]
  },
  {
   "cell_type": "code",
   "execution_count": 5,
   "id": "6bcf81aa-e3ff-4d6f-a177-fadb1a64c2e2",
   "metadata": {
    "tags": []
   },
   "outputs": [
    {
     "data": {
      "text/plain": [
       "(596, 16)"
      ]
     },
     "execution_count": 5,
     "metadata": {},
     "output_type": "execute_result"
    }
   ],
   "source": [
    "df.shape"
   ]
  },
  {
   "cell_type": "code",
   "execution_count": 6,
   "id": "a10205fb-f112-4743-bf80-91c34f7f58e0",
   "metadata": {
    "tags": []
   },
   "outputs": [
    {
     "name": "stdout",
     "output_type": "stream",
     "text": [
      "<class 'pandas.core.frame.DataFrame'>\n",
      "RangeIndex: 596 entries, 0 to 595\n",
      "Data columns (total 16 columns):\n",
      " #   Column                              Non-Null Count  Dtype  \n",
      "---  ------                              --------------  -----  \n",
      " 0   No                                  596 non-null    int64  \n",
      " 1   Nama Lengkap                        596 non-null    object \n",
      " 2   Prodi                               596 non-null    object \n",
      " 3   Jenis Kelamin                       596 non-null    object \n",
      " 4   Jarak Tempat Tinggal kekampus (Km)  596 non-null    object \n",
      " 5   Asal Sekolah                        596 non-null    object \n",
      " 6   Tahun Lulus                         596 non-null    int64  \n",
      " 7   SKS                                 596 non-null    int64  \n",
      " 8   Ikut Organisasi                     596 non-null    object \n",
      " 9   Ikut UKM                            596 non-null    object \n",
      " 10  IPK                                 596 non-null    object \n",
      " 11  IPK2                                596 non-null    object \n",
      " 12  Pekerjaan Orang Tua                 596 non-null    object \n",
      " 13  Penghasilan                         596 non-null    object \n",
      " 14  Tanggungan                          596 non-null    int64  \n",
      " 15  Status Beasiswa                     0 non-null      float64\n",
      "dtypes: float64(1), int64(4), object(11)\n",
      "memory usage: 74.6+ KB\n"
     ]
    }
   ],
   "source": [
    "df.info()"
   ]
  },
  {
   "cell_type": "code",
   "execution_count": 7,
   "id": "3bc5d502-52ef-438f-b499-04eb782db908",
   "metadata": {
    "tags": []
   },
   "outputs": [
    {
     "data": {
      "text/plain": [
       "0      False\n",
       "1      False\n",
       "2      False\n",
       "3      False\n",
       "4      False\n",
       "       ...  \n",
       "591    False\n",
       "592    False\n",
       "593    False\n",
       "594    False\n",
       "595    False\n",
       "Length: 596, dtype: bool"
      ]
     },
     "execution_count": 7,
     "metadata": {},
     "output_type": "execute_result"
    }
   ],
   "source": [
    "df.duplicated()"
   ]
  },
  {
   "cell_type": "markdown",
   "id": "87c84d9e-abb9-4074-b429-ac47f1ef828a",
   "metadata": {
    "jp-MarkdownHeadingCollapsed": true,
    "tags": []
   },
   "source": [
    "### Asumsi Variabel Dependent (Status Beasiswa)"
   ]
  },
  {
   "cell_type": "markdown",
   "id": "0628c134-cdfa-4527-abac-9d2204efcc89",
   "metadata": {
    "tags": []
   },
   "source": [
    "Dikarenakan feature \"Status Beasiswa\" memiliki nilai NaN yang tentu membuat model tidak dapat melakukan pembelajaran terhadap data missing values, oleh karena itu saya asumsikan bahwa pendaftar yang berhak untuk mendapatkan beasiswa adalah sebagai berikut "
   ]
  },
  {
   "cell_type": "markdown",
   "id": "d24a8ff6-fae8-4cc9-9aaa-8bc5d97d41c8",
   "metadata": {},
   "source": [
    "- IPK : >= 3.50\n",
    "- Mengikuti Organisasi OR UMKM\n",
    "- Penghasilan orang tua sedang jika tanggungan > 2 anak OR Pengahasilan orang tua rendah jika tanggungan >= 1 anak"
   ]
  },
  {
   "cell_type": "code",
   "execution_count": 8,
   "id": "ecdb6d67-cba2-4e4b-a7ce-57abe053a497",
   "metadata": {
    "tags": []
   },
   "outputs": [],
   "source": [
    "df['IPK'] = df['IPK'].str.replace(',', '.').astype(float)"
   ]
  },
  {
   "cell_type": "code",
   "execution_count": 9,
   "id": "8a014fc8-5bf2-4711-9a97-03504cbd0f24",
   "metadata": {
    "tags": []
   },
   "outputs": [],
   "source": [
    "def hak_beasiswa(row):\n",
    "    if row['IPK'] >= 3.50 and \\\n",
    "       (row['Ikut Organisasi'] == 'Ikut' or row['Ikut UKM'] == 'Ikut') and \\\n",
    "       ((row['Penghasilan'] == 'Sedang' and row['Tanggungan'] > 2) or (row['Penghasilan'] == 'Rendah' and row['Tanggungan'] >= 1)):\n",
    "        return 'Beasiswa'\n",
    "    else:\n",
    "        return 'Tidak Layak Beasiswa'"
   ]
  },
  {
   "cell_type": "code",
   "execution_count": 10,
   "id": "dea75b0a-a44c-4dc7-8129-9cbff21763f6",
   "metadata": {
    "tags": []
   },
   "outputs": [],
   "source": [
    "df['Status Beasiswa'] = df.apply(hak_beasiswa, axis=1)"
   ]
  },
  {
   "cell_type": "code",
   "execution_count": 11,
   "id": "f315837f-959c-4e3d-8a02-2bd9b8404b8f",
   "metadata": {
    "tags": []
   },
   "outputs": [
    {
     "name": "stdout",
     "output_type": "stream",
     "text": [
      "Total mahasiswa yang berhak menerima beasiswa: 81\n",
      "Total mahasiswa yang tidak layak menerima beasiswa: 515\n"
     ]
    }
   ],
   "source": [
    "def hitung_beasiswa(df):\n",
    "    count_beasiswa = 0\n",
    "    count_tidak_beasiswa = 0\n",
    "    \n",
    "    for index, row in df.iterrows():\n",
    "        if hak_beasiswa(row) == 'Beasiswa':\n",
    "            count_beasiswa += 1\n",
    "        else:\n",
    "            count_tidak_beasiswa += 1\n",
    "    \n",
    "    return count_beasiswa, count_tidak_beasiswa\n",
    "\n",
    "total_beasiswa, total_tidak_beasiswa = hitung_beasiswa(df)\n",
    "\n",
    "print(\"Total mahasiswa yang berhak menerima beasiswa:\", total_beasiswa)\n",
    "print(\"Total mahasiswa yang tidak layak menerima beasiswa:\", total_tidak_beasiswa)"
   ]
  },
  {
   "cell_type": "markdown",
   "id": "e60203fe-e06b-44b7-93d5-7159a85b4053",
   "metadata": {
    "jp-MarkdownHeadingCollapsed": true,
    "tags": []
   },
   "source": [
    "### Pre processing & EDA"
   ]
  },
  {
   "cell_type": "code",
   "execution_count": 12,
   "id": "e9c72d54-632a-440e-ab5c-dd07dff4d715",
   "metadata": {
    "tags": []
   },
   "outputs": [
    {
     "name": "stdout",
     "output_type": "stream",
     "text": [
      "<class 'pandas.core.frame.DataFrame'>\n",
      "RangeIndex: 596 entries, 0 to 595\n",
      "Data columns (total 16 columns):\n",
      " #   Column                              Non-Null Count  Dtype  \n",
      "---  ------                              --------------  -----  \n",
      " 0   No                                  596 non-null    int64  \n",
      " 1   Nama Lengkap                        596 non-null    object \n",
      " 2   Prodi                               596 non-null    object \n",
      " 3   Jenis Kelamin                       596 non-null    object \n",
      " 4   Jarak Tempat Tinggal kekampus (Km)  596 non-null    object \n",
      " 5   Asal Sekolah                        596 non-null    object \n",
      " 6   Tahun Lulus                         596 non-null    int64  \n",
      " 7   SKS                                 596 non-null    int64  \n",
      " 8   Ikut Organisasi                     596 non-null    object \n",
      " 9   Ikut UKM                            596 non-null    object \n",
      " 10  IPK                                 596 non-null    float64\n",
      " 11  IPK2                                596 non-null    object \n",
      " 12  Pekerjaan Orang Tua                 596 non-null    object \n",
      " 13  Penghasilan                         596 non-null    object \n",
      " 14  Tanggungan                          596 non-null    int64  \n",
      " 15  Status Beasiswa                     596 non-null    object \n",
      "dtypes: float64(1), int64(4), object(11)\n",
      "memory usage: 74.6+ KB\n"
     ]
    }
   ],
   "source": [
    "df.info()"
   ]
  },
  {
   "cell_type": "code",
   "execution_count": 13,
   "id": "5d4071fb-2542-4ce7-b346-1bd9d515e7d0",
   "metadata": {
    "tags": []
   },
   "outputs": [
    {
     "data": {
      "image/png": "[encoded data removed]",
      "text/plain": [
       "<Figure size 400x600 with 1 Axes>"
      ]
     },
     "metadata": {},
     "output_type": "display_data"
    }
   ],
   "source": [
    "plt.figure(figsize=(4, 6))\n",
    "\n",
    "# Barplot IPK\n",
    "sns.barplot(x='Jenis Kelamin', y='IPK', data=df)\n",
    "plt.title('IPK Mahasiswa')\n",
    "plt.xlabel('Jenis Kelasmin')\n",
    "plt.ylabel('IPK')\n",
    "plt.ylim(0, 4) \n",
    "plt.show()"
   ]
  },
  {
   "cell_type": "code",
   "execution_count": 14,
   "id": "5d09cbd2-bdb0-4e42-87eb-4c1e165cd45b",
   "metadata": {
    "tags": []
   },
   "outputs": [
    {
     "data": {
      "image/png": "[encoded data removed]",
      "text/plain": [
       "<Figure size 640x480 with 1 Axes>"
      ]
     },
     "metadata": {},
     "output_type": "display_data"
    }
   ],
   "source": [
    "# Barplot IPK\n",
    "sns.barplot(x='Penghasilan', y='IPK', data=df)\n",
    "plt.title('IPK Mahasiswa')\n",
    "plt.xlabel('Penghasilan Orang Tua')\n",
    "plt.ylabel('IPK')\n",
    "plt.ylim(0, 4) \n",
    "plt.show()"
   ]
  },
  {
   "cell_type": "code",
   "execution_count": 15,
   "id": "87742f3d-62f9-4e6f-a374-e42d14265fa7",
   "metadata": {
    "tags": []
   },
   "outputs": [
    {
     "data": {
      "image/png": "[encoded data removed]",
      "text/plain": [
       "<Figure size 1400x600 with 1 Axes>"
      ]
     },
     "metadata": {},
     "output_type": "display_data"
    }
   ],
   "source": [
    "plt.figure(figsize=(14, 6))\n",
    "# Barplot Prodi\n",
    "sns.barplot(x='Pekerjaan Orang Tua', y='Tanggungan', data=df)\n",
    "plt.title('Pekerjaan Orang Tua')\n",
    "plt.xlabel('Pekerjaan Orang Tua')\n",
    "plt.ylabel('Tanggungan Orang Tua')\n",
    "plt.ylim(0, 4) \n",
    "plt.show()"
   ]
  },
  {
   "cell_type": "markdown",
   "id": "8602b4e5-ccc0-4536-8050-46af28b790d0",
   "metadata": {
    "jp-MarkdownHeadingCollapsed": true,
    "tags": []
   },
   "source": [
    "### One Hot Encoding"
   ]
  },
  {
   "cell_type": "markdown",
   "id": "5fa35a98-f98a-4db0-a2bc-960e134ab267",
   "metadata": {
    "tags": []
   },
   "source": [
    "#### Data Nominal"
   ]
  },
  {
   "cell_type": "code",
   "execution_count": 16,
   "id": "aabf9e02-7e04-4345-92ff-59e07dd0b4b3",
   "metadata": {
    "tags": []
   },
   "outputs": [],
   "source": [
    "beasiswa = {'Tidak Layak Beasiswa':0, 'Beasiswa':1}\n",
    "df['Status Beasiswa'] = df['Status Beasiswa'].map(beasiswa)"
   ]
  },
  {
   "cell_type": "code",
   "execution_count": 17,
   "id": "6ee86a1f-5fac-4fea-b7ad-7343b49a8e1c",
   "metadata": {
    "tags": []
   },
   "outputs": [],
   "source": [
    "jenisKelamin = {'P':0, 'L':1}\n",
    "df['Jenis Kelamin'] = df['Jenis Kelamin'].map(jenisKelamin)"
   ]
  },
  {
   "cell_type": "code",
   "execution_count": 18,
   "id": "48bb8408-e6d9-4b2e-aea1-cf3bfaa7593e",
   "metadata": {
    "tags": []
   },
   "outputs": [],
   "source": [
    "organisasi = {'Tidak':0, 'Ikut':1}\n",
    "df['Ikut Organisasi'] = df['Ikut Organisasi'].map(organisasi)"
   ]
  },
  {
   "cell_type": "code",
   "execution_count": 19,
   "id": "af570d0f-451e-433d-a4a1-2f44b222749b",
   "metadata": {
    "tags": []
   },
   "outputs": [],
   "source": [
    "ukm = {'Tidak':0, 'Ikut':1}\n",
    "df['Ikut UKM'] = df['Ikut UKM'].map(ukm)"
   ]
  },
  {
   "cell_type": "code",
   "execution_count": 20,
   "id": "ccd56116-8f8c-4bba-8e5c-d3545f08a626",
   "metadata": {
    "tags": []
   },
   "outputs": [
    {
     "data": {
      "text/html": [
       "<div>\n",
       "<style scoped>\n",
       "    .dataframe tbody tr th:only-of-type {\n",
       "        vertical-align: middle;\n",
       "    }\n",
       "\n",
       "    .dataframe tbody tr th {\n",
       "        vertical-align: top;\n",
       "    }\n",
       "\n",
       "    .dataframe thead th {\n",
       "        text-align: right;\n",
       "    }\n",
       "</style>\n",
       "<table border=\"1\" class=\"dataframe\">\n",
       "  <thead>\n",
       "    <tr style=\"text-align: right;\">\n",
       "      <th></th>\n",
       "      <th>No</th>\n",
       "      <th>Nama Lengkap</th>\n",
       "      <th>Prodi</th>\n",
       "      <th>Jenis Kelamin</th>\n",
       "      <th>Jarak Tempat Tinggal kekampus (Km)</th>\n",
       "      <th>Asal Sekolah</th>\n",
       "      <th>Tahun Lulus</th>\n",
       "      <th>SKS</th>\n",
       "      <th>Ikut Organisasi</th>\n",
       "      <th>Ikut UKM</th>\n",
       "      <th>IPK</th>\n",
       "      <th>IPK2</th>\n",
       "      <th>Pekerjaan Orang Tua</th>\n",
       "      <th>Penghasilan</th>\n",
       "      <th>Tanggungan</th>\n",
       "      <th>Status Beasiswa</th>\n",
       "    </tr>\n",
       "  </thead>\n",
       "  <tbody>\n",
       "    <tr>\n",
       "      <th>0</th>\n",
       "      <td>1</td>\n",
       "      <td>GALAN PRASETIO</td>\n",
       "      <td>D III Keperawatan | Reguler</td>\n",
       "      <td>1</td>\n",
       "      <td>Dekat</td>\n",
       "      <td>SMAN 1 GEDONG TATAAN</td>\n",
       "      <td>2020</td>\n",
       "      <td>21</td>\n",
       "      <td>1</td>\n",
       "      <td>1</td>\n",
       "      <td>3.57</td>\n",
       "      <td>Sangat Baik</td>\n",
       "      <td>Wiraswasta</td>\n",
       "      <td>Sedang</td>\n",
       "      <td>4</td>\n",
       "      <td>1</td>\n",
       "    </tr>\n",
       "    <tr>\n",
       "      <th>1</th>\n",
       "      <td>2</td>\n",
       "      <td>FINGKY RANDIANSYAH</td>\n",
       "      <td>D III Keperawatan | Reguler</td>\n",
       "      <td>1</td>\n",
       "      <td>Dekat</td>\n",
       "      <td>SMK HAMPAR BAIDURI</td>\n",
       "      <td>2020</td>\n",
       "      <td>21</td>\n",
       "      <td>0</td>\n",
       "      <td>1</td>\n",
       "      <td>2.95</td>\n",
       "      <td>Baik</td>\n",
       "      <td>Buruh</td>\n",
       "      <td>Sedang</td>\n",
       "      <td>2</td>\n",
       "      <td>0</td>\n",
       "    </tr>\n",
       "    <tr>\n",
       "      <th>2</th>\n",
       "      <td>3</td>\n",
       "      <td>ADELIA PANE</td>\n",
       "      <td>D III Keperawatan | Reguler</td>\n",
       "      <td>0</td>\n",
       "      <td>Dekat</td>\n",
       "      <td>SMK HAMPAR BAIDURI</td>\n",
       "      <td>2020</td>\n",
       "      <td>21</td>\n",
       "      <td>0</td>\n",
       "      <td>1</td>\n",
       "      <td>3.67</td>\n",
       "      <td>Sangat Baik</td>\n",
       "      <td>Petani</td>\n",
       "      <td>Sedang</td>\n",
       "      <td>4</td>\n",
       "      <td>1</td>\n",
       "    </tr>\n",
       "    <tr>\n",
       "      <th>3</th>\n",
       "      <td>4</td>\n",
       "      <td>DWI HANDOKO</td>\n",
       "      <td>D III Keperawatan | Reguler</td>\n",
       "      <td>1</td>\n",
       "      <td>Dekat</td>\n",
       "      <td>SMA MA'ARIF NU BUMIRESTU</td>\n",
       "      <td>2020</td>\n",
       "      <td>21</td>\n",
       "      <td>0</td>\n",
       "      <td>1</td>\n",
       "      <td>3.19</td>\n",
       "      <td>Baik</td>\n",
       "      <td>Wiraswasta</td>\n",
       "      <td>Tinggi</td>\n",
       "      <td>2</td>\n",
       "      <td>0</td>\n",
       "    </tr>\n",
       "    <tr>\n",
       "      <th>4</th>\n",
       "      <td>5</td>\n",
       "      <td>DESTRI FERAWANTI GUSTINI</td>\n",
       "      <td>D III Keperawatan | Reguler</td>\n",
       "      <td>0</td>\n",
       "      <td>Jauh</td>\n",
       "      <td>SMA 2 NEGERI AGUNG</td>\n",
       "      <td>2020</td>\n",
       "      <td>21</td>\n",
       "      <td>0</td>\n",
       "      <td>1</td>\n",
       "      <td>3.19</td>\n",
       "      <td>Baik</td>\n",
       "      <td>Wiraswasta</td>\n",
       "      <td>Sedang</td>\n",
       "      <td>2</td>\n",
       "      <td>0</td>\n",
       "    </tr>\n",
       "  </tbody>\n",
       "</table>\n",
       "</div>"
      ],
      "text/plain": [
       "   No              Nama Lengkap                        Prodi  Jenis Kelamin  \\\n",
       "0   1            GALAN PRASETIO  D III Keperawatan | Reguler              1   \n",
       "1   2        FINGKY RANDIANSYAH  D III Keperawatan | Reguler              1   \n",
       "2   3               ADELIA PANE  D III Keperawatan | Reguler              0   \n",
       "3   4               DWI HANDOKO  D III Keperawatan | Reguler              1   \n",
       "4   5  DESTRI FERAWANTI GUSTINI  D III Keperawatan | Reguler              0   \n",
       "\n",
       "  Jarak Tempat Tinggal kekampus (Km)              Asal Sekolah  Tahun Lulus  \\\n",
       "0                              Dekat      SMAN 1 GEDONG TATAAN         2020   \n",
       "1                              Dekat        SMK HAMPAR BAIDURI         2020   \n",
       "2                              Dekat        SMK HAMPAR BAIDURI         2020   \n",
       "3                              Dekat  SMA MA'ARIF NU BUMIRESTU         2020   \n",
       "4                               Jauh        SMA 2 NEGERI AGUNG         2020   \n",
       "\n",
       "   SKS  Ikut Organisasi  Ikut UKM   IPK         IPK2 Pekerjaan Orang Tua  \\\n",
       "0   21                1         1  3.57  Sangat Baik          Wiraswasta   \n",
       "1   21                0         1  2.95         Baik               Buruh   \n",
       "2   21                0         1  3.67  Sangat Baik              Petani   \n",
       "3   21                0         1  3.19         Baik          Wiraswasta   \n",
       "4   21                0         1  3.19         Baik          Wiraswasta   \n",
       "\n",
       "  Penghasilan  Tanggungan  Status Beasiswa  \n",
       "0      Sedang           4                1  \n",
       "1      Sedang           2                0  \n",
       "2      Sedang           4                1  \n",
       "3      Tinggi           2                0  \n",
       "4      Sedang           2                0  "
      ]
     },
     "execution_count": 20,
     "metadata": {},
     "output_type": "execute_result"
    }
   ],
   "source": [
    "df.head()"
   ]
  },
  {
   "cell_type": "code",
   "execution_count": 21,
   "id": "4cda6333-4fa6-4dd9-9bc8-063dbecb8392",
   "metadata": {
    "tags": []
   },
   "outputs": [
    {
     "data": {
      "text/plain": [
       "array(['Sedang', 'Tinggi', 'Rendah'], dtype=object)"
      ]
     },
     "execution_count": 21,
     "metadata": {},
     "output_type": "execute_result"
    }
   ],
   "source": [
    "df['Penghasilan'].unique()"
   ]
  },
  {
   "cell_type": "code",
   "execution_count": 22,
   "id": "5f322d97-5fd0-4638-8698-0851256b6684",
   "metadata": {
    "tags": []
   },
   "outputs": [],
   "source": [
    "gaji = {'Rendah':1, 'Sedang':2, 'Tinggi':3}\n",
    "df['Penghasilan'] = df['Penghasilan'].map(gaji)"
   ]
  },
  {
   "cell_type": "code",
   "execution_count": 23,
   "id": "2c68ac10-ef23-4408-8892-393c87e3e428",
   "metadata": {
    "tags": []
   },
   "outputs": [
    {
     "data": {
      "text/plain": [
       "array(['Dekat', 'Jauh'], dtype=object)"
      ]
     },
     "execution_count": 23,
     "metadata": {},
     "output_type": "execute_result"
    }
   ],
   "source": [
    "df['Jarak Tempat Tinggal kekampus (Km)'].unique()"
   ]
  },
  {
   "cell_type": "code",
   "execution_count": 24,
   "id": "27b36b85-2e87-4975-a232-63ef24a5e7e5",
   "metadata": {
    "tags": []
   },
   "outputs": [],
   "source": [
    "jarak = {'Dekat':1, 'Jauh':0}\n",
    "df['Jarak Tempat Tinggal kekampus (Km)'] = df['Jarak Tempat Tinggal kekampus (Km)'].map(jarak)"
   ]
  },
  {
   "cell_type": "code",
   "execution_count": 25,
   "id": "b5bf1f85-1a62-4fe9-9fde-0a46318c2437",
   "metadata": {
    "tags": []
   },
   "outputs": [
    {
     "data": {
      "text/html": [
       "<div>\n",
       "<style scoped>\n",
       "    .dataframe tbody tr th:only-of-type {\n",
       "        vertical-align: middle;\n",
       "    }\n",
       "\n",
       "    .dataframe tbody tr th {\n",
       "        vertical-align: top;\n",
       "    }\n",
       "\n",
       "    .dataframe thead th {\n",
       "        text-align: right;\n",
       "    }\n",
       "</style>\n",
       "<table border=\"1\" class=\"dataframe\">\n",
       "  <thead>\n",
       "    <tr style=\"text-align: right;\">\n",
       "      <th></th>\n",
       "      <th>No</th>\n",
       "      <th>Nama Lengkap</th>\n",
       "      <th>Prodi</th>\n",
       "      <th>Jenis Kelamin</th>\n",
       "      <th>Jarak Tempat Tinggal kekampus (Km)</th>\n",
       "      <th>Asal Sekolah</th>\n",
       "      <th>Tahun Lulus</th>\n",
       "      <th>SKS</th>\n",
       "      <th>Ikut Organisasi</th>\n",
       "      <th>Ikut UKM</th>\n",
       "      <th>IPK</th>\n",
       "      <th>IPK2</th>\n",
       "      <th>Pekerjaan Orang Tua</th>\n",
       "      <th>Penghasilan</th>\n",
       "      <th>Tanggungan</th>\n",
       "      <th>Status Beasiswa</th>\n",
       "    </tr>\n",
       "  </thead>\n",
       "  <tbody>\n",
       "    <tr>\n",
       "      <th>0</th>\n",
       "      <td>1</td>\n",
       "      <td>GALAN PRASETIO</td>\n",
       "      <td>D III Keperawatan | Reguler</td>\n",
       "      <td>1</td>\n",
       "      <td>1</td>\n",
       "      <td>SMAN 1 GEDONG TATAAN</td>\n",
       "      <td>2020</td>\n",
       "      <td>21</td>\n",
       "      <td>1</td>\n",
       "      <td>1</td>\n",
       "      <td>3.57</td>\n",
       "      <td>Sangat Baik</td>\n",
       "      <td>Wiraswasta</td>\n",
       "      <td>2</td>\n",
       "      <td>4</td>\n",
       "      <td>1</td>\n",
       "    </tr>\n",
       "    <tr>\n",
       "      <th>1</th>\n",
       "      <td>2</td>\n",
       "      <td>FINGKY RANDIANSYAH</td>\n",
       "      <td>D III Keperawatan | Reguler</td>\n",
       "      <td>1</td>\n",
       "      <td>1</td>\n",
       "      <td>SMK HAMPAR BAIDURI</td>\n",
       "      <td>2020</td>\n",
       "      <td>21</td>\n",
       "      <td>0</td>\n",
       "      <td>1</td>\n",
       "      <td>2.95</td>\n",
       "      <td>Baik</td>\n",
       "      <td>Buruh</td>\n",
       "      <td>2</td>\n",
       "      <td>2</td>\n",
       "      <td>0</td>\n",
       "    </tr>\n",
       "    <tr>\n",
       "      <th>2</th>\n",
       "      <td>3</td>\n",
       "      <td>ADELIA PANE</td>\n",
       "      <td>D III Keperawatan | Reguler</td>\n",
       "      <td>0</td>\n",
       "      <td>1</td>\n",
       "      <td>SMK HAMPAR BAIDURI</td>\n",
       "      <td>2020</td>\n",
       "      <td>21</td>\n",
       "      <td>0</td>\n",
       "      <td>1</td>\n",
       "      <td>3.67</td>\n",
       "      <td>Sangat Baik</td>\n",
       "      <td>Petani</td>\n",
       "      <td>2</td>\n",
       "      <td>4</td>\n",
       "      <td>1</td>\n",
       "    </tr>\n",
       "    <tr>\n",
       "      <th>3</th>\n",
       "      <td>4</td>\n",
       "      <td>DWI HANDOKO</td>\n",
       "      <td>D III Keperawatan | Reguler</td>\n",
       "      <td>1</td>\n",
       "      <td>1</td>\n",
       "      <td>SMA MA'ARIF NU BUMIRESTU</td>\n",
       "      <td>2020</td>\n",
       "      <td>21</td>\n",
       "      <td>0</td>\n",
       "      <td>1</td>\n",
       "      <td>3.19</td>\n",
       "      <td>Baik</td>\n",
       "      <td>Wiraswasta</td>\n",
       "      <td>3</td>\n",
       "      <td>2</td>\n",
       "      <td>0</td>\n",
       "    </tr>\n",
       "    <tr>\n",
       "      <th>4</th>\n",
       "      <td>5</td>\n",
       "      <td>DESTRI FERAWANTI GUSTINI</td>\n",
       "      <td>D III Keperawatan | Reguler</td>\n",
       "      <td>0</td>\n",
       "      <td>0</td>\n",
       "      <td>SMA 2 NEGERI AGUNG</td>\n",
       "      <td>2020</td>\n",
       "      <td>21</td>\n",
       "      <td>0</td>\n",
       "      <td>1</td>\n",
       "      <td>3.19</td>\n",
       "      <td>Baik</td>\n",
       "      <td>Wiraswasta</td>\n",
       "      <td>2</td>\n",
       "      <td>2</td>\n",
       "      <td>0</td>\n",
       "    </tr>\n",
       "  </tbody>\n",
       "</table>\n",
       "</div>"
      ],
      "text/plain": [
       "   No              Nama Lengkap                        Prodi  Jenis Kelamin  \\\n",
       "0   1            GALAN PRASETIO  D III Keperawatan | Reguler              1   \n",
       "1   2        FINGKY RANDIANSYAH  D III Keperawatan | Reguler              1   \n",
       "2   3               ADELIA PANE  D III Keperawatan | Reguler              0   \n",
       "3   4               DWI HANDOKO  D III Keperawatan | Reguler              1   \n",
       "4   5  DESTRI FERAWANTI GUSTINI  D III Keperawatan | Reguler              0   \n",
       "\n",
       "   Jarak Tempat Tinggal kekampus (Km)              Asal Sekolah  Tahun Lulus  \\\n",
       "0                                   1      SMAN 1 GEDONG TATAAN         2020   \n",
       "1                                   1        SMK HAMPAR BAIDURI         2020   \n",
       "2                                   1        SMK HAMPAR BAIDURI         2020   \n",
       "3                                   1  SMA MA'ARIF NU BUMIRESTU         2020   \n",
       "4                                   0        SMA 2 NEGERI AGUNG         2020   \n",
       "\n",
       "   SKS  Ikut Organisasi  Ikut UKM   IPK         IPK2 Pekerjaan Orang Tua  \\\n",
       "0   21                1         1  3.57  Sangat Baik          Wiraswasta   \n",
       "1   21                0         1  2.95         Baik               Buruh   \n",
       "2   21                0         1  3.67  Sangat Baik              Petani   \n",
       "3   21                0         1  3.19         Baik          Wiraswasta   \n",
       "4   21                0         1  3.19         Baik          Wiraswasta   \n",
       "\n",
       "   Penghasilan  Tanggungan  Status Beasiswa  \n",
       "0            2           4                1  \n",
       "1            2           2                0  \n",
       "2            2           4                1  \n",
       "3            3           2                0  \n",
       "4            2           2                0  "
      ]
     },
     "execution_count": 25,
     "metadata": {},
     "output_type": "execute_result"
    }
   ],
   "source": [
    "df.head()"
   ]
  },
  {
   "cell_type": "code",
   "execution_count": 26,
   "id": "1dca46c1-12f2-4ca8-8562-b133a5089a53",
   "metadata": {
    "tags": []
   },
   "outputs": [
    {
     "data": {
      "text/plain": [
       "array(['Sangat Baik', 'Baik', 'Cukup'], dtype=object)"
      ]
     },
     "execution_count": 26,
     "metadata": {},
     "output_type": "execute_result"
    }
   ],
   "source": [
    "df['IPK2'].unique()"
   ]
  },
  {
   "cell_type": "code",
   "execution_count": 27,
   "id": "0ba16edf-24ea-40e6-a12e-1187b9c4f6a3",
   "metadata": {
    "tags": []
   },
   "outputs": [],
   "source": [
    "ipk2 = {'Sangat Baik':3, 'Baik':2, 'Cukup':1}\n",
    "df['IPK2'] = df['IPK2'].map(ipk2)"
   ]
  },
  {
   "cell_type": "code",
   "execution_count": 28,
   "id": "8d7a3b8f-be2b-479a-97b8-f535283908f5",
   "metadata": {
    "tags": []
   },
   "outputs": [
    {
     "data": {
      "text/html": [
       "<div>\n",
       "<style scoped>\n",
       "    .dataframe tbody tr th:only-of-type {\n",
       "        vertical-align: middle;\n",
       "    }\n",
       "\n",
       "    .dataframe tbody tr th {\n",
       "        vertical-align: top;\n",
       "    }\n",
       "\n",
       "    .dataframe thead th {\n",
       "        text-align: right;\n",
       "    }\n",
       "</style>\n",
       "<table border=\"1\" class=\"dataframe\">\n",
       "  <thead>\n",
       "    <tr style=\"text-align: right;\">\n",
       "      <th></th>\n",
       "      <th>No</th>\n",
       "      <th>Nama Lengkap</th>\n",
       "      <th>Prodi</th>\n",
       "      <th>Jenis Kelamin</th>\n",
       "      <th>Jarak Tempat Tinggal kekampus (Km)</th>\n",
       "      <th>Asal Sekolah</th>\n",
       "      <th>Tahun Lulus</th>\n",
       "      <th>SKS</th>\n",
       "      <th>Ikut Organisasi</th>\n",
       "      <th>Ikut UKM</th>\n",
       "      <th>IPK</th>\n",
       "      <th>IPK2</th>\n",
       "      <th>Pekerjaan Orang Tua</th>\n",
       "      <th>Penghasilan</th>\n",
       "      <th>Tanggungan</th>\n",
       "      <th>Status Beasiswa</th>\n",
       "    </tr>\n",
       "  </thead>\n",
       "  <tbody>\n",
       "    <tr>\n",
       "      <th>0</th>\n",
       "      <td>1</td>\n",
       "      <td>GALAN PRASETIO</td>\n",
       "      <td>D III Keperawatan | Reguler</td>\n",
       "      <td>1</td>\n",
       "      <td>1</td>\n",
       "      <td>SMAN 1 GEDONG TATAAN</td>\n",
       "      <td>2020</td>\n",
       "      <td>21</td>\n",
       "      <td>1</td>\n",
       "      <td>1</td>\n",
       "      <td>3.57</td>\n",
       "      <td>3</td>\n",
       "      <td>Wiraswasta</td>\n",
       "      <td>2</td>\n",
       "      <td>4</td>\n",
       "      <td>1</td>\n",
       "    </tr>\n",
       "    <tr>\n",
       "      <th>1</th>\n",
       "      <td>2</td>\n",
       "      <td>FINGKY RANDIANSYAH</td>\n",
       "      <td>D III Keperawatan | Reguler</td>\n",
       "      <td>1</td>\n",
       "      <td>1</td>\n",
       "      <td>SMK HAMPAR BAIDURI</td>\n",
       "      <td>2020</td>\n",
       "      <td>21</td>\n",
       "      <td>0</td>\n",
       "      <td>1</td>\n",
       "      <td>2.95</td>\n",
       "      <td>2</td>\n",
       "      <td>Buruh</td>\n",
       "      <td>2</td>\n",
       "      <td>2</td>\n",
       "      <td>0</td>\n",
       "    </tr>\n",
       "    <tr>\n",
       "      <th>2</th>\n",
       "      <td>3</td>\n",
       "      <td>ADELIA PANE</td>\n",
       "      <td>D III Keperawatan | Reguler</td>\n",
       "      <td>0</td>\n",
       "      <td>1</td>\n",
       "      <td>SMK HAMPAR BAIDURI</td>\n",
       "      <td>2020</td>\n",
       "      <td>21</td>\n",
       "      <td>0</td>\n",
       "      <td>1</td>\n",
       "      <td>3.67</td>\n",
       "      <td>3</td>\n",
       "      <td>Petani</td>\n",
       "      <td>2</td>\n",
       "      <td>4</td>\n",
       "      <td>1</td>\n",
       "    </tr>\n",
       "    <tr>\n",
       "      <th>3</th>\n",
       "      <td>4</td>\n",
       "      <td>DWI HANDOKO</td>\n",
       "      <td>D III Keperawatan | Reguler</td>\n",
       "      <td>1</td>\n",
       "      <td>1</td>\n",
       "      <td>SMA MA'ARIF NU BUMIRESTU</td>\n",
       "      <td>2020</td>\n",
       "      <td>21</td>\n",
       "      <td>0</td>\n",
       "      <td>1</td>\n",
       "      <td>3.19</td>\n",
       "      <td>2</td>\n",
       "      <td>Wiraswasta</td>\n",
       "      <td>3</td>\n",
       "      <td>2</td>\n",
       "      <td>0</td>\n",
       "    </tr>\n",
       "    <tr>\n",
       "      <th>4</th>\n",
       "      <td>5</td>\n",
       "      <td>DESTRI FERAWANTI GUSTINI</td>\n",
       "      <td>D III Keperawatan | Reguler</td>\n",
       "      <td>0</td>\n",
       "      <td>0</td>\n",
       "      <td>SMA 2 NEGERI AGUNG</td>\n",
       "      <td>2020</td>\n",
       "      <td>21</td>\n",
       "      <td>0</td>\n",
       "      <td>1</td>\n",
       "      <td>3.19</td>\n",
       "      <td>2</td>\n",
       "      <td>Wiraswasta</td>\n",
       "      <td>2</td>\n",
       "      <td>2</td>\n",
       "      <td>0</td>\n",
       "    </tr>\n",
       "  </tbody>\n",
       "</table>\n",
       "</div>"
      ],
      "text/plain": [
       "   No              Nama Lengkap                        Prodi  Jenis Kelamin  \\\n",
       "0   1            GALAN PRASETIO  D III Keperawatan | Reguler              1   \n",
       "1   2        FINGKY RANDIANSYAH  D III Keperawatan | Reguler              1   \n",
       "2   3               ADELIA PANE  D III Keperawatan | Reguler              0   \n",
       "3   4               DWI HANDOKO  D III Keperawatan | Reguler              1   \n",
       "4   5  DESTRI FERAWANTI GUSTINI  D III Keperawatan | Reguler              0   \n",
       "\n",
       "   Jarak Tempat Tinggal kekampus (Km)              Asal Sekolah  Tahun Lulus  \\\n",
       "0                                   1      SMAN 1 GEDONG TATAAN         2020   \n",
       "1                                   1        SMK HAMPAR BAIDURI         2020   \n",
       "2                                   1        SMK HAMPAR BAIDURI         2020   \n",
       "3                                   1  SMA MA'ARIF NU BUMIRESTU         2020   \n",
       "4                                   0        SMA 2 NEGERI AGUNG         2020   \n",
       "\n",
       "   SKS  Ikut Organisasi  Ikut UKM   IPK  IPK2 Pekerjaan Orang Tua  \\\n",
       "0   21                1         1  3.57     3          Wiraswasta   \n",
       "1   21                0         1  2.95     2               Buruh   \n",
       "2   21                0         1  3.67     3              Petani   \n",
       "3   21                0         1  3.19     2          Wiraswasta   \n",
       "4   21                0         1  3.19     2          Wiraswasta   \n",
       "\n",
       "   Penghasilan  Tanggungan  Status Beasiswa  \n",
       "0            2           4                1  \n",
       "1            2           2                0  \n",
       "2            2           4                1  \n",
       "3            3           2                0  \n",
       "4            2           2                0  "
      ]
     },
     "execution_count": 28,
     "metadata": {},
     "output_type": "execute_result"
    }
   ],
   "source": [
    "df.head()"
   ]
  },
  {
   "cell_type": "markdown",
   "id": "5b502507-43e2-4429-8d59-87b4125859e5",
   "metadata": {},
   "source": [
    "#### Data Ordinal"
   ]
  },
  {
   "cell_type": "code",
   "execution_count": 29,
   "id": "066bbb01-6d8c-402f-9c44-3cb4a333a51d",
   "metadata": {
    "tags": []
   },
   "outputs": [
    {
     "data": {
      "text/plain": [
       "array(['D III Keperawatan | Reguler',\n",
       "       'Pendidikan Guru Sekolah Dasar | Reguler',\n",
       "       'Pendidikan Matematika | Reguler',\n",
       "       'Pendidikan Bahasa dan Sastra Indonesia | Reguler',\n",
       "       'Manajemen | Reguler', 'Bimbingan dan Konseling | Reguler',\n",
       "       'Pendidikan Bahasa Inggris | Reguler', 'S1 Keperawatan | Reguler',\n",
       "       'DIII Kebidanan | Reguler', 'S1 Hukum Ekomoni Syariah | Reguler'],\n",
       "      dtype=object)"
      ]
     },
     "execution_count": 29,
     "metadata": {},
     "output_type": "execute_result"
    }
   ],
   "source": [
    "df['Prodi'].unique()"
   ]
  },
  {
   "cell_type": "code",
   "execution_count": 30,
   "id": "4b94baa4-faec-42a1-a8dd-f1a917374f7d",
   "metadata": {},
   "outputs": [
    {
     "data": {
      "text/plain": [
       "array(['SMAN 1 GEDONG TATAAN', 'SMK HAMPAR BAIDURI',\n",
       "       \"SMA MA'ARIF NU BUMIRESTU\", 'SMA 2 NEGERI AGUNG',\n",
       "       \"MA MATHLA'UL ANWAR\", \"MA MA'ARIF 4 KALIREJO\", 'SMAN 1 KOTAAGUNG',\n",
       "       'SMK HAMPAR BAIDURI KALIANDA', 'MA ANWANUL FALAH',\n",
       "       'SMKN 1 NGAMBUR', 'MA ROUDLOTUL HUDA PURWOSARI PADANG RATU',\n",
       "       'SMK YPIB KOTABUMI LAMPUNG UTARA', 'SMKN SUKOHARJO',\n",
       "       'SMA N 1 SEMAKA', 'SMK YP SERDANG',\n",
       "       'SMAN 1 BUAY PEMACA OKU SELATAN', 'SMA N 1 SENDANG AGUNG',\n",
       "       'SMA N 1 BANGUN REJO', 'SMA N 1 TALANG PADANG',\n",
       "       'SMAN 1 PULAU PANGGUNG', 'MAN 2 BANDAR LAMPUNG',\n",
       "       'SMA MUHAMMADIYAH GISTING', 'SMK YASMIDA AMBARAWA',\n",
       "       'MA MATHLAUL ANWAR GISTING', 'SMA MUHAMMADIYAH 01 MESUJI TIMUR',\n",
       "       'MA PONPES AL-MUHSIN METRO', 'SMA N 1KOTAAGUNG',\n",
       "       'SMA NEGERI 01 GUNUNG ALIP', 'SMAN 1 KIKIM TIMUR',\n",
       "       'MAN 2 BANDARLAMPUNG', 'SMAN 2 PUNDUH PIDADA',\n",
       "       'SMK MUHAMMADIYAH 3 METRO', 'SMAN 4 BANDAR LAMPUNG',\n",
       "       'SMA NEGERI 1 KALIREJO', 'SMAN 1 KALIREJO', 'SMK YPIB KOTABUMI',\n",
       "       'SMAN 1 MERKASA AJI', 'SMK WIDYA YAHYA GADINGREJO',\n",
       "       'SMAN 1 CANDIPURO', 'SMAN 1 TALANGPADANG',\n",
       "       'SMA NEGERI 1 BANGUNREJO', 'SMA ISLAM KEBUMEN',\n",
       "       'SMA N 1 PRINGSEWU', 'SMA NEGERI 1 KALIANDA',\n",
       "       'SMA NEGERI 1 WAY JEPARA', 'SMA N 01 SUKOHARJO',\n",
       "       'SMKN 1 KOTAAGUNG BARAT', 'SMA NEGERI 2 KALIANDA',\n",
       "       'SMA NEGERI 26 BANDUNG', 'MAN 1 PRINGSEWU', 'SMKS AL-QOLAM',\n",
       "       'SMA N 1 SUKOHARJO', 'SMK KESEHATAN HAMPAR BAIDURI KALIANDA',\n",
       "       'SMA NEGERI 1 PULAU PANGGUNG', 'SMA MUH PRINGSEWU',\n",
       "       'SMK N 1 TALANG PADANG', 'SMKN 1 BANDAR LAMPUNG', 'SMA N 2 LIWA',\n",
       "       'SMAN 1 KEDONDONG', 'SMA MUHAMMADIYAH KOTA AGUNG', 'SMA N 1 LIMAU',\n",
       "       'SMK MUHAMMADIYAH 1 PUBIAN', 'SMK MAARIF BANYUMAS',\n",
       "       'MAN 1 OKU SELATAN', 'SMK WIDYA YAHYA', \"SMK MA'ARIF PRINGSEWU\",\n",
       "       'SMAN 1 PADANG CERMIN', 'SMA NEGERI 1 GEDONG TATAAN',\n",
       "       'SMA N 1 SUMBEREJO', 'SMA NEGERI 1 PAGELARAN',\n",
       "       'PONDOK MODERN DARUSSALAM GONTOR', 'SMA N 01 PENAWAR AJI',\n",
       "       'SMA MUHAMMADIYAH 2 BANDAR LAMPUNG', 'SMAN 9 BANDAR LAMPUNG',\n",
       "       'SMA NEGERI 1 SEPUTIH SURABAYA',\n",
       "       'SMK KESEHATAN MITRA BANGSA TULANG BAWANG', 'SMAN 1 BANGUNREJO',\n",
       "       'SMAN 1 BULOK', 'SMA N 1 SUNGKAI UTARA', \"MA MA'ARIF 1 PUNGGUR\",\n",
       "       'SMK FARMASI TUNAS BANGSA', 'SMAN 1 PAGELARAN',\n",
       "       'SMAN 1 TERBANGGI BESAR', 'MA PLUS WALISONGO LAMPUNG UTARA',\n",
       "       'SMA N 1 PULAU PANGGUNG', 'SMA N 1 LIWA', 'MAN 1 PESAWARAN',\n",
       "       'SMA NEGERI 1 PADANG CERMIN', 'SMAN 1 LIWA', 'SMAN 1 PRINGSEWU',\n",
       "       'SMA NEGERI 1 GUNUNG SUGIH', 'SMA NEGRI 2 KOTAAGUNG',\n",
       "       'SMA N 1 BANDAR MATARAM', 'SMK N 7 BANDAR LAMPUNG',\n",
       "       'SMA N 7 BANDAR LAMPUNG', 'SMK SMTI BANDAR LAMPUNG',\n",
       "       'MAN 1 TANGGAMUS', 'SMA N 01 WAY TENONG', 'SMKN 1 WAY TENONG',\n",
       "       'SMA N 2 KALIANDA', 'SMK YP 96 BUKIT KEMUNING',\n",
       "       'SMA NEGRI 1 KOTA METRO', 'SMA XAVERIUS PRINGSEWU',\n",
       "       'SMAN 17 BANDAR LAMPUNG', 'SMA PERSADA BANDAR LAMPUNG',\n",
       "       'SMA NEGERI 1 KOTA AGUNG', 'SMA N 16 BANDAR LAMPUNG',\n",
       "       'SMK NEGERI 2 METRO', 'SMAN 1 LIMAU', 'SMK N 7 BANDARLAMPUNG',\n",
       "       'SMK HAMPAR BAYDURI', 'SMA NEGERI 1 MUARADUA',\n",
       "       'SMA N 1 BUMI AGUNG', \"SMAS TMI ROUDLATUL QUR'AN METRO\",\n",
       "       'SMA NEGERI 1 BLAMBANGAN UMPU', 'SMA N 2 PADANG CERMIN',\n",
       "       'SMA N 1 ULU BELU', 'SMA N 1 WAY TENONG',\n",
       "       'SMK NEGERI 7 BANDAR LAMPUNG', 'SMAN 1 CUKUH BALAK',\n",
       "       'SEKOLAH MENENGAH KEJURUAN', 'SMAN 1 BANYUMAS',\n",
       "       'SMA NEGERI 1 WAY TENONG', 'SMA N 1 PARDASUKA', 'SMA N 1 KIBANG',\n",
       "       'SMK BUMI NUSANTARA', 'SMA N 1 KOTA AGUNG', 'SMA NEGRI 1 AMBARAWA',\n",
       "       'MAN 3 PALEMBANG', 'SMAN 1 TUMUJAJAR', 'SMK AL QOLAM KOTA AGUNG',\n",
       "       'SMAN 15 BANDAR LAMPUNG', 'SMAN 01 PARDASUKA',\n",
       "       'SMA N 01 AIR NANINGAN', 'SMAN 1 SUKOHARJO', 'MAN 1 METRO',\n",
       "       'SMK KH.GHALIB PRINGSEWU', 'SMA MUHAMMADIYA 01 PRINGSEWU',\n",
       "       'SMA NEGERI 1 ADILUWIH', 'MA AL-MIZAN', 'SMA SYUBBANUL WATHON',\n",
       "       'SMK KH GHOLIB PRINGSEWU', 'SMA MUHAMMADIYAH PRINGSEWU',\n",
       "       'SUPM N KOTA AGUNG', 'SMK KESEHATAN MITRA BANGSA',\n",
       "       'SMA NEGERI 1 BANYUMAS', 'SMK YADIKA PAGELARAN',\n",
       "       'MADRASAH ALIYAH NEGERI 1 OGAN KOMERING ULU SELATAN',\n",
       "       'SMA NEGERI 2 KOTA AGUNG', 'SMA 1 KEDONDONG',\n",
       "       'SMA NEGERI 01 PRINGSEWU', 'SMA NEGERI 1 KEDONDONG',\n",
       "       'SMAN 1 BARADATU', 'SMA NEGERI 2 KOTABUMI\\xa0',\n",
       "       \"MA MA'ARIF KEPUTRAN\", 'SMA N 2 KOTAAGUNG', 'SMAN 1 MENGGALA',\n",
       "       'SMA N 2 PRINGSEWU', 'SMA NEGERI 1 RUMBIA', 'SMAN 1 KRUI',\n",
       "       'SMA NEGERI 4 KOTA TANGERANG',\n",
       "       'SMK FARMASI KESUMA BANGSA BANDAR LAMPUNG', 'SMA N2 PRINGSEWU',\n",
       "       'SMK N 2 METRO', 'PONDOK PESANTREN MA AL FATAH NATAR',\n",
       "       'SMA NEGERI 01 PAGELARAN', 'SMA N 1 SEKINCAU', 'SMAN 2 GADINGREJO',\n",
       "       'SMA N 1 AMBARAWA', 'SMA N 1 GADING REJO',\n",
       "       'SMA PERINTIS 2 BANDAR LAMPUNG', 'SMA N 1 BUKIT KEMUNING',\n",
       "       'SMAN 1 TANJUNG RAJA', 'SMAN 1 BANJAR AGUNG',\n",
       "       'SMA NEGRI 1 PRINGSEWU', 'SMK MUHAMMADIYAH BELITANG',\n",
       "       'SMA NEGERI 1 AMBARAWA', 'SMK MUHAMMADIYAH METRO', 'MA MA’ARIF 5',\n",
       "       'SMAN 2 GEDONG TATAAN', 'SMA PELITA BANDAR LAMPUNG',\n",
       "       'SMA N 1 GEDUNG MENENG', 'SMA N 1 SEPUTIH MATARAM',\n",
       "       'SMAN 1 GEDUNG MENENG', 'SMK2 MEI BANDAR LAMPUNG',\n",
       "       'SMKN 1 BARADATU', 'SMA N 1 WAY BUNGUR', 'SMA N 1 TERBANGGI BESAR'],\n",
       "      dtype=object)"
      ]
     },
     "execution_count": 30,
     "metadata": {},
     "output_type": "execute_result"
    }
   ],
   "source": [
    "df['Asal Sekolah'].unique()"
   ]
  },
  {
   "cell_type": "code",
   "execution_count": 31,
   "id": "d4738848-428c-4f21-960c-57d6637ccdc1",
   "metadata": {
    "tags": []
   },
   "outputs": [
    {
     "data": {
      "text/plain": [
       "array(['Wiraswasta', 'Buruh', 'Petani', 'Pedagang', 'Karyawan Swasta',\n",
       "       'PNS', 'Nelayan', 'Pensiunan', 'Wirausaha', 'Sudah Meninggal'],\n",
       "      dtype=object)"
      ]
     },
     "execution_count": 31,
     "metadata": {},
     "output_type": "execute_result"
    }
   ],
   "source": [
    "df['Pekerjaan Orang Tua'].unique()"
   ]
  },
  {
   "cell_type": "code",
   "execution_count": 32,
   "id": "e87ca655-5dda-4aee-a03c-e268af4a8ab8",
   "metadata": {
    "tags": []
   },
   "outputs": [],
   "source": [
    "from sklearn.preprocessing import LabelEncoder, OneHotEncoder\n",
    "from sklearn.compose import ColumnTransformer"
   ]
  },
  {
   "cell_type": "code",
   "execution_count": 33,
   "id": "bd0be727-093a-4570-958d-51517ce3822d",
   "metadata": {
    "tags": []
   },
   "outputs": [
    {
     "name": "stdout",
     "output_type": "stream",
     "text": [
      "      No                 Nama Lengkap  Jenis Kelamin  \\\n",
      "0      1               GALAN PRASETIO              1   \n",
      "1      2           FINGKY RANDIANSYAH              1   \n",
      "2      3                  ADELIA PANE              0   \n",
      "3      4                  DWI HANDOKO              1   \n",
      "4      5     DESTRI FERAWANTI GUSTINI              0   \n",
      "..   ...                          ...            ...   \n",
      "591  592         FAIZ GILANG RAMADHAN              1   \n",
      "592  593                 ETIKA FEMALE              0   \n",
      "593  594         NOVI KHOIRUL GHUFRON              1   \n",
      "594  595                    INDRIYANI              0   \n",
      "595  596  GISELA NOVENA VIVI NATHANIA              0   \n",
      "\n",
      "     Jarak Tempat Tinggal kekampus (Km)  Tahun Lulus  SKS  Ikut Organisasi  \\\n",
      "0                                     1         2020   21                1   \n",
      "1                                     1         2020   21                0   \n",
      "2                                     1         2020   21                0   \n",
      "3                                     1         2020   21                0   \n",
      "4                                     0         2020   21                0   \n",
      "..                                  ...          ...  ...              ...   \n",
      "591                                   0         2020   21                0   \n",
      "592                                   1         2020   21                0   \n",
      "593                                   1         2020   21                0   \n",
      "594                                   1         2020   21                0   \n",
      "595                                   1         2020   21                0   \n",
      "\n",
      "     Ikut UKM   IPK  IPK2  ...  Pekerjaan Orang Tua_Buruh  \\\n",
      "0           1  3.57     3  ...                        0.0   \n",
      "1           1  2.95     2  ...                        1.0   \n",
      "2           1  3.67     3  ...                        0.0   \n",
      "3           1  3.19     2  ...                        0.0   \n",
      "4           1  3.19     2  ...                        0.0   \n",
      "..        ...   ...   ...  ...                        ...   \n",
      "591         1  3.57     3  ...                        0.0   \n",
      "592         1  3.29     2  ...                        0.0   \n",
      "593         1  2.62     1  ...                        0.0   \n",
      "594         1  3.71     3  ...                        0.0   \n",
      "595         1  3.57     3  ...                        1.0   \n",
      "\n",
      "     Pekerjaan Orang Tua_Karyawan Swasta  Pekerjaan Orang Tua_Nelayan  \\\n",
      "0                                    0.0                          0.0   \n",
      "1                                    0.0                          0.0   \n",
      "2                                    0.0                          0.0   \n",
      "3                                    0.0                          0.0   \n",
      "4                                    0.0                          0.0   \n",
      "..                                   ...                          ...   \n",
      "591                                  0.0                          0.0   \n",
      "592                                  0.0                          0.0   \n",
      "593                                  0.0                          0.0   \n",
      "594                                  0.0                          0.0   \n",
      "595                                  0.0                          0.0   \n",
      "\n",
      "     Pekerjaan Orang Tua_PNS  Pekerjaan Orang Tua_Pedagang  \\\n",
      "0                        0.0                           0.0   \n",
      "1                        0.0                           0.0   \n",
      "2                        0.0                           0.0   \n",
      "3                        0.0                           0.0   \n",
      "4                        0.0                           0.0   \n",
      "..                       ...                           ...   \n",
      "591                      1.0                           0.0   \n",
      "592                      1.0                           0.0   \n",
      "593                      0.0                           0.0   \n",
      "594                      1.0                           0.0   \n",
      "595                      0.0                           0.0   \n",
      "\n",
      "     Pekerjaan Orang Tua_Pensiunan  Pekerjaan Orang Tua_Petani  \\\n",
      "0                              0.0                         0.0   \n",
      "1                              0.0                         0.0   \n",
      "2                              0.0                         1.0   \n",
      "3                              0.0                         0.0   \n",
      "4                              0.0                         0.0   \n",
      "..                             ...                         ...   \n",
      "591                            0.0                         0.0   \n",
      "592                            0.0                         0.0   \n",
      "593                            0.0                         1.0   \n",
      "594                            0.0                         0.0   \n",
      "595                            0.0                         0.0   \n",
      "\n",
      "     Pekerjaan Orang Tua_Sudah Meninggal  Pekerjaan Orang Tua_Wiraswasta  \\\n",
      "0                                    0.0                             1.0   \n",
      "1                                    0.0                             0.0   \n",
      "2                                    0.0                             0.0   \n",
      "3                                    0.0                             1.0   \n",
      "4                                    0.0                             1.0   \n",
      "..                                   ...                             ...   \n",
      "591                                  0.0                             0.0   \n",
      "592                                  0.0                             0.0   \n",
      "593                                  0.0                             0.0   \n",
      "594                                  0.0                             0.0   \n",
      "595                                  0.0                             0.0   \n",
      "\n",
      "     Pekerjaan Orang Tua_Wirausaha  \n",
      "0                              0.0  \n",
      "1                              0.0  \n",
      "2                              0.0  \n",
      "3                              0.0  \n",
      "4                              0.0  \n",
      "..                             ...  \n",
      "591                            0.0  \n",
      "592                            0.0  \n",
      "593                            0.0  \n",
      "594                            0.0  \n",
      "595                            0.0  \n",
      "\n",
      "[596 rows x 221 columns]\n"
     ]
    }
   ],
   "source": [
    "columns_to_encode = ['Prodi', 'Asal Sekolah', 'Pekerjaan Orang Tua']\n",
    "encoder = OneHotEncoder(sparse_output=False)\n",
    "\n",
    "encoded = encoder.fit_transform(df[columns_to_encode])\n",
    "\n",
    "# Mendapatkan nama kolom baru setelah encoding\n",
    "encoded_columns = encoder.get_feature_names_out(columns_to_encode)\n",
    "\n",
    "encoded_df = pd.DataFrame(encoded, columns=encoded_columns)\n",
    "\n",
    "df = df.drop(columns=columns_to_encode).join(encoded_df)\n",
    "\n",
    "print(df)"
   ]
  },
  {
   "cell_type": "code",
   "execution_count": 34,
   "id": "609872ec-128a-43b8-9a64-320e298bc7a4",
   "metadata": {
    "tags": []
   },
   "outputs": [
    {
     "data": {
      "text/plain": [
       "(596, 221)"
      ]
     },
     "execution_count": 34,
     "metadata": {},
     "output_type": "execute_result"
    }
   ],
   "source": [
    "df.shape"
   ]
  },
  {
   "cell_type": "code",
   "execution_count": 35,
   "id": "73a097d4-42cf-4b67-a608-50bf396b6051",
   "metadata": {
    "tags": []
   },
   "outputs": [
    {
     "data": {
      "text/html": [
       "<div>\n",
       "<style scoped>\n",
       "    .dataframe tbody tr th:only-of-type {\n",
       "        vertical-align: middle;\n",
       "    }\n",
       "\n",
       "    .dataframe tbody tr th {\n",
       "        vertical-align: top;\n",
       "    }\n",
       "\n",
       "    .dataframe thead th {\n",
       "        text-align: right;\n",
       "    }\n",
       "</style>\n",
       "<table border=\"1\" class=\"dataframe\">\n",
       "  <thead>\n",
       "    <tr style=\"text-align: right;\">\n",
       "      <th></th>\n",
       "      <th>No</th>\n",
       "      <th>Nama Lengkap</th>\n",
       "      <th>Jenis Kelamin</th>\n",
       "      <th>Jarak Tempat Tinggal kekampus (Km)</th>\n",
       "      <th>Tahun Lulus</th>\n",
       "      <th>SKS</th>\n",
       "      <th>Ikut Organisasi</th>\n",
       "      <th>Ikut UKM</th>\n",
       "      <th>IPK</th>\n",
       "      <th>IPK2</th>\n",
       "      <th>...</th>\n",
       "      <th>Pekerjaan Orang Tua_Buruh</th>\n",
       "      <th>Pekerjaan Orang Tua_Karyawan Swasta</th>\n",
       "      <th>Pekerjaan Orang Tua_Nelayan</th>\n",
       "      <th>Pekerjaan Orang Tua_PNS</th>\n",
       "      <th>Pekerjaan Orang Tua_Pedagang</th>\n",
       "      <th>Pekerjaan Orang Tua_Pensiunan</th>\n",
       "      <th>Pekerjaan Orang Tua_Petani</th>\n",
       "      <th>Pekerjaan Orang Tua_Sudah Meninggal</th>\n",
       "      <th>Pekerjaan Orang Tua_Wiraswasta</th>\n",
       "      <th>Pekerjaan Orang Tua_Wirausaha</th>\n",
       "    </tr>\n",
       "  </thead>\n",
       "  <tbody>\n",
       "    <tr>\n",
       "      <th>0</th>\n",
       "      <td>1</td>\n",
       "      <td>GALAN PRASETIO</td>\n",
       "      <td>1</td>\n",
       "      <td>1</td>\n",
       "      <td>2020</td>\n",
       "      <td>21</td>\n",
       "      <td>1</td>\n",
       "      <td>1</td>\n",
       "      <td>3.57</td>\n",
       "      <td>3</td>\n",
       "      <td>...</td>\n",
       "      <td>0.0</td>\n",
       "      <td>0.0</td>\n",
       "      <td>0.0</td>\n",
       "      <td>0.0</td>\n",
       "      <td>0.0</td>\n",
       "      <td>0.0</td>\n",
       "      <td>0.0</td>\n",
       "      <td>0.0</td>\n",
       "      <td>1.0</td>\n",
       "      <td>0.0</td>\n",
       "    </tr>\n",
       "    <tr>\n",
       "      <th>1</th>\n",
       "      <td>2</td>\n",
       "      <td>FINGKY RANDIANSYAH</td>\n",
       "      <td>1</td>\n",
       "      <td>1</td>\n",
       "      <td>2020</td>\n",
       "      <td>21</td>\n",
       "      <td>0</td>\n",
       "      <td>1</td>\n",
       "      <td>2.95</td>\n",
       "      <td>2</td>\n",
       "      <td>...</td>\n",
       "      <td>1.0</td>\n",
       "      <td>0.0</td>\n",
       "      <td>0.0</td>\n",
       "      <td>0.0</td>\n",
       "      <td>0.0</td>\n",
       "      <td>0.0</td>\n",
       "      <td>0.0</td>\n",
       "      <td>0.0</td>\n",
       "      <td>0.0</td>\n",
       "      <td>0.0</td>\n",
       "    </tr>\n",
       "    <tr>\n",
       "      <th>2</th>\n",
       "      <td>3</td>\n",
       "      <td>ADELIA PANE</td>\n",
       "      <td>0</td>\n",
       "      <td>1</td>\n",
       "      <td>2020</td>\n",
       "      <td>21</td>\n",
       "      <td>0</td>\n",
       "      <td>1</td>\n",
       "      <td>3.67</td>\n",
       "      <td>3</td>\n",
       "      <td>...</td>\n",
       "      <td>0.0</td>\n",
       "      <td>0.0</td>\n",
       "      <td>0.0</td>\n",
       "      <td>0.0</td>\n",
       "      <td>0.0</td>\n",
       "      <td>0.0</td>\n",
       "      <td>1.0</td>\n",
       "      <td>0.0</td>\n",
       "      <td>0.0</td>\n",
       "      <td>0.0</td>\n",
       "    </tr>\n",
       "    <tr>\n",
       "      <th>3</th>\n",
       "      <td>4</td>\n",
       "      <td>DWI HANDOKO</td>\n",
       "      <td>1</td>\n",
       "      <td>1</td>\n",
       "      <td>2020</td>\n",
       "      <td>21</td>\n",
       "      <td>0</td>\n",
       "      <td>1</td>\n",
       "      <td>3.19</td>\n",
       "      <td>2</td>\n",
       "      <td>...</td>\n",
       "      <td>0.0</td>\n",
       "      <td>0.0</td>\n",
       "      <td>0.0</td>\n",
       "      <td>0.0</td>\n",
       "      <td>0.0</td>\n",
       "      <td>0.0</td>\n",
       "      <td>0.0</td>\n",
       "      <td>0.0</td>\n",
       "      <td>1.0</td>\n",
       "      <td>0.0</td>\n",
       "    </tr>\n",
       "    <tr>\n",
       "      <th>4</th>\n",
       "      <td>5</td>\n",
       "      <td>DESTRI FERAWANTI GUSTINI</td>\n",
       "      <td>0</td>\n",
       "      <td>0</td>\n",
       "      <td>2020</td>\n",
       "      <td>21</td>\n",
       "      <td>0</td>\n",
       "      <td>1</td>\n",
       "      <td>3.19</td>\n",
       "      <td>2</td>\n",
       "      <td>...</td>\n",
       "      <td>0.0</td>\n",
       "      <td>0.0</td>\n",
       "      <td>0.0</td>\n",
       "      <td>0.0</td>\n",
       "      <td>0.0</td>\n",
       "      <td>0.0</td>\n",
       "      <td>0.0</td>\n",
       "      <td>0.0</td>\n",
       "      <td>1.0</td>\n",
       "      <td>0.0</td>\n",
       "    </tr>\n",
       "  </tbody>\n",
       "</table>\n",
       "<p>5 rows × 221 columns</p>\n",
       "</div>"
      ],
      "text/plain": [
       "   No              Nama Lengkap  Jenis Kelamin  \\\n",
       "0   1            GALAN PRASETIO              1   \n",
       "1   2        FINGKY RANDIANSYAH              1   \n",
       "2   3               ADELIA PANE              0   \n",
       "3   4               DWI HANDOKO              1   \n",
       "4   5  DESTRI FERAWANTI GUSTINI              0   \n",
       "\n",
       "   Jarak Tempat Tinggal kekampus (Km)  Tahun Lulus  SKS  Ikut Organisasi  \\\n",
       "0                                   1         2020   21                1   \n",
       "1                                   1         2020   21                0   \n",
       "2                                   1         2020   21                0   \n",
       "3                                   1         2020   21                0   \n",
       "4                                   0         2020   21                0   \n",
       "\n",
       "   Ikut UKM   IPK  IPK2  ...  Pekerjaan Orang Tua_Buruh  \\\n",
       "0         1  3.57     3  ...                        0.0   \n",
       "1         1  2.95     2  ...                        1.0   \n",
       "2         1  3.67     3  ...                        0.0   \n",
       "3         1  3.19     2  ...                        0.0   \n",
       "4         1  3.19     2  ...                        0.0   \n",
       "\n",
       "   Pekerjaan Orang Tua_Karyawan Swasta  Pekerjaan Orang Tua_Nelayan  \\\n",
       "0                                  0.0                          0.0   \n",
       "1                                  0.0                          0.0   \n",
       "2                                  0.0                          0.0   \n",
       "3                                  0.0                          0.0   \n",
       "4                                  0.0                          0.0   \n",
       "\n",
       "   Pekerjaan Orang Tua_PNS  Pekerjaan Orang Tua_Pedagang  \\\n",
       "0                      0.0                           0.0   \n",
       "1                      0.0                           0.0   \n",
       "2                      0.0                           0.0   \n",
       "3                      0.0                           0.0   \n",
       "4                      0.0                           0.0   \n",
       "\n",
       "   Pekerjaan Orang Tua_Pensiunan  Pekerjaan Orang Tua_Petani  \\\n",
       "0                            0.0                         0.0   \n",
       "1                            0.0                         0.0   \n",
       "2                            0.0                         1.0   \n",
       "3                            0.0                         0.0   \n",
       "4                            0.0                         0.0   \n",
       "\n",
       "   Pekerjaan Orang Tua_Sudah Meninggal  Pekerjaan Orang Tua_Wiraswasta  \\\n",
       "0                                  0.0                             1.0   \n",
       "1                                  0.0                             0.0   \n",
       "2                                  0.0                             0.0   \n",
       "3                                  0.0                             1.0   \n",
       "4                                  0.0                             1.0   \n",
       "\n",
       "   Pekerjaan Orang Tua_Wirausaha  \n",
       "0                            0.0  \n",
       "1                            0.0  \n",
       "2                            0.0  \n",
       "3                            0.0  \n",
       "4                            0.0  \n",
       "\n",
       "[5 rows x 221 columns]"
      ]
     },
     "execution_count": 35,
     "metadata": {},
     "output_type": "execute_result"
    }
   ],
   "source": [
    "df.head()"
   ]
  },
  {
   "cell_type": "code",
   "execution_count": 36,
   "id": "7299fc78-ebbf-40a9-a38e-931ff4e54373",
   "metadata": {
    "tags": []
   },
   "outputs": [
    {
     "name": "stdout",
     "output_type": "stream",
     "text": [
      "<class 'pandas.core.frame.DataFrame'>\n",
      "RangeIndex: 596 entries, 0 to 595\n",
      "Columns: 221 entries, No to Pekerjaan Orang Tua_Wirausaha\n",
      "dtypes: float64(209), int64(11), object(1)\n",
      "memory usage: 1.0+ MB\n"
     ]
    }
   ],
   "source": [
    "df.info()"
   ]
  },
  {
   "cell_type": "code",
   "execution_count": 37,
   "id": "3ff49c62-b7e2-4415-965a-70a61e31a21b",
   "metadata": {
    "tags": []
   },
   "outputs": [
    {
     "data": {
      "text/plain": [
       "0      False\n",
       "1      False\n",
       "2      False\n",
       "3      False\n",
       "4      False\n",
       "       ...  \n",
       "591    False\n",
       "592    False\n",
       "593    False\n",
       "594    False\n",
       "595    False\n",
       "Length: 596, dtype: bool"
      ]
     },
     "execution_count": 37,
     "metadata": {},
     "output_type": "execute_result"
    }
   ],
   "source": [
    "df.duplicated()"
   ]
  },
  {
   "cell_type": "code",
   "execution_count": 38,
   "id": "4b30a33d-483d-4273-aa8e-d39875686d44",
   "metadata": {
    "tags": []
   },
   "outputs": [
    {
     "data": {
      "text/plain": [
       "No                                     0\n",
       "Nama Lengkap                           0\n",
       "Jenis Kelamin                          0\n",
       "Jarak Tempat Tinggal kekampus (Km)     0\n",
       "Tahun Lulus                            0\n",
       "                                      ..\n",
       "Pekerjaan Orang Tua_Pensiunan          0\n",
       "Pekerjaan Orang Tua_Petani             0\n",
       "Pekerjaan Orang Tua_Sudah Meninggal    0\n",
       "Pekerjaan Orang Tua_Wiraswasta         0\n",
       "Pekerjaan Orang Tua_Wirausaha          0\n",
       "Length: 221, dtype: int64"
      ]
     },
     "execution_count": 38,
     "metadata": {},
     "output_type": "execute_result"
    }
   ],
   "source": [
    "df.isna().sum()"
   ]
  },
  {
   "cell_type": "markdown",
   "id": "8c836419-510d-4e7b-bf76-3f597d1a1562",
   "metadata": {
    "jp-MarkdownHeadingCollapsed": true,
    "tags": []
   },
   "source": [
    "### Data Splitting"
   ]
  },
  {
   "cell_type": "markdown",
   "id": "c1d12d11-6de5-4f6b-98b7-1bcee2522d60",
   "metadata": {},
   "source": [
    "- Data Train : 80%\n",
    "- Data Test : 20%"
   ]
  },
  {
   "cell_type": "code",
   "execution_count": 39,
   "id": "c5c31d0a-d6ba-489e-9259-5d864123042a",
   "metadata": {
    "tags": []
   },
   "outputs": [],
   "source": [
    "from sklearn.model_selection import train_test_split"
   ]
  },
  {
   "cell_type": "code",
   "execution_count": 40,
   "id": "5b9fad32-4759-4ea5-ab05-b375175eab11",
   "metadata": {
    "tags": []
   },
   "outputs": [],
   "source": [
    "X = df.drop(columns=[\"No\", \"Nama Lengkap\", \"Status Beasiswa\"])  # Fitur\n",
    "y = df[\"Status Beasiswa\"] "
   ]
  },
  {
   "cell_type": "code",
   "execution_count": 41,
   "id": "f0168eaa-b72a-4a4a-9670-61f97e9d10cf",
   "metadata": {
    "tags": []
   },
   "outputs": [],
   "source": [
    "X_train, X_test, y_train, y_test = train_test_split(X, y, test_size=0.2, random_state=42)"
   ]
  },
  {
   "cell_type": "code",
   "execution_count": 42,
   "id": "960b5b7c-6931-45cd-ae05-96427439e7aa",
   "metadata": {
    "tags": []
   },
   "outputs": [
    {
     "name": "stdout",
     "output_type": "stream",
     "text": [
      "Jumlah data training: 476\n",
      "Jumlah data testing: 120\n"
     ]
    }
   ],
   "source": [
    "print(f'Jumlah data training: {X_train.shape[0]}')\n",
    "print(f'Jumlah data testing: {X_test.shape[0]}')"
   ]
  },
  {
   "cell_type": "markdown",
   "id": "74b84335-fc5c-4c54-a6fc-f5dadafce5d1",
   "metadata": {
    "jp-MarkdownHeadingCollapsed": true,
    "tags": []
   },
   "source": [
    "### Modelling - Naive Bayes"
   ]
  },
  {
   "cell_type": "code",
   "execution_count": 43,
   "id": "f4769f99-a241-4d31-a5d3-3cbfc3c653cf",
   "metadata": {
    "tags": []
   },
   "outputs": [],
   "source": [
    "from sklearn.naive_bayes import GaussianNB\n",
    "from sklearn.metrics import accuracy_score"
   ]
  },
  {
   "cell_type": "code",
   "execution_count": 54,
   "id": "9b98b1dd-1656-46db-8883-579b9637bea2",
   "metadata": {
    "tags": []
   },
   "outputs": [],
   "source": [
    "from sklearn.preprocessing import StandardScaler\n",
    "\n",
    "sc = StandardScaler()\n",
    "\n",
    "X_train = sc.fit_transform(X_train)\n",
    "X_test = sc.fit_transform(X_test)"
   ]
  },
  {
   "cell_type": "code",
   "execution_count": 55,
   "id": "da6302d1-12a2-46a8-bbdf-83ab9750c4ef",
   "metadata": {
    "tags": []
   },
   "outputs": [
    {
     "data": {
      "text/plain": [
       "array([[-0.58705431,  0.71492035,  0.11298654, ..., -0.15380479,\n",
       "         1.11118936, -0.12216944],\n",
       "       [-0.58705431, -1.39875721,  0.11298654, ..., -0.15380479,\n",
       "        -0.89993663, -0.12216944],\n",
       "       [ 1.7034199 ,  0.71492035,  0.11298654, ..., -0.15380479,\n",
       "        -0.89993663, -0.12216944],\n",
       "       ...,\n",
       "       [-0.58705431, -1.39875721,  0.11298654, ..., -0.15380479,\n",
       "        -0.89993663, -0.12216944],\n",
       "       [ 1.7034199 ,  0.71492035,  0.11298654, ..., -0.15380479,\n",
       "         1.11118936, -0.12216944],\n",
       "       [-0.58705431,  0.71492035,  0.11298654, ..., -0.15380479,\n",
       "        -0.89993663, -0.12216944]])"
      ]
     },
     "execution_count": 55,
     "metadata": {},
     "output_type": "execute_result"
    }
   ],
   "source": [
    "X_train"
   ]
  },
  {
   "cell_type": "code",
   "execution_count": 56,
   "id": "12bd3484-5180-4cc6-95a6-253d7273996e",
   "metadata": {
    "tags": []
   },
   "outputs": [
    {
     "data": {
      "text/plain": [
       "array([[-0.70710678,  0.74728947,  0.09166985, ..., -0.24889135,\n",
       "        -0.66766993, -0.13018891],\n",
       "       [ 1.41421356, -1.33816952,  0.09166985, ..., -0.24889135,\n",
       "         1.49774605, -0.13018891],\n",
       "       [-0.70710678,  0.74728947,  0.09166985, ..., -0.24889135,\n",
       "        -0.66766993, -0.13018891],\n",
       "       ...,\n",
       "       [-0.70710678, -1.33816952,  0.09166985, ...,  4.01781746,\n",
       "        -0.66766993, -0.13018891],\n",
       "       [ 1.41421356, -1.33816952,  0.09166985, ..., -0.24889135,\n",
       "        -0.66766993, -0.13018891],\n",
       "       [-0.70710678,  0.74728947,  0.09166985, ..., -0.24889135,\n",
       "        -0.66766993, -0.13018891]])"
      ]
     },
     "execution_count": 56,
     "metadata": {},
     "output_type": "execute_result"
    }
   ],
   "source": [
    "X_test"
   ]
  },
  {
   "cell_type": "code",
   "execution_count": 64,
   "id": "c8355860-1c81-480e-ba6e-f5a1fb3953ea",
   "metadata": {
    "tags": []
   },
   "outputs": [
    {
     "name": "stdout",
     "output_type": "stream",
     "text": [
      "Accuracy: 0.8416666666666667\n",
      "Classification Report:\n",
      "              precision    recall  f1-score   support\n",
      "\n",
      "           0       0.85      0.98      0.91       102\n",
      "           1       0.33      0.06      0.10        18\n",
      "\n",
      "    accuracy                           0.84       120\n",
      "   macro avg       0.59      0.52      0.50       120\n",
      "weighted avg       0.78      0.84      0.79       120\n",
      "\n"
     ]
    }
   ],
   "source": [
    "model = GaussianNB()\n",
    "\n",
    "# Train model\n",
    "model.fit(X_train, y_train)\n",
    "\n",
    "# Prediksi\n",
    "y_pred = model.predict(X_test)\n",
    "\n",
    "\n",
    "# Evaluasi model\n",
    "accuracy = accuracy_score(y_test, y_pred)\n",
    "report = classification_report(y_test, y_pred)\n",
    "print(f'Accuracy: {accuracy}')\n",
    "print(\"Classification Report:\")\n",
    "print(report)"
   ]
  },
  {
   "cell_type": "code",
   "execution_count": 58,
   "id": "e8c12d19-3734-4142-98b1-068f54872137",
   "metadata": {},
   "outputs": [
    {
     "data": {
      "image/png": "[encoded data removed]",
      "text/plain": [
       "<Figure size 800x600 with 2 Axes>"
      ]
     },
     "metadata": {},
     "output_type": "display_data"
    }
   ],
   "source": [
    "from sklearn.metrics import confusion_matrix\n",
    "cm = confusion_matrix(y_test, y_pred)\n",
    "\n",
    "# Plot confusion matrix\n",
    "plt.figure(figsize=(8, 6))\n",
    "sns.heatmap(cm, annot=True, fmt=\"d\", cmap=\"Blues\")\n",
    "plt.xlabel('Predicted labels')\n",
    "plt.ylabel('True labels')\n",
    "plt.title('Confusion Matrix')\n",
    "plt.show()"
   ]
  },
  {
   "cell_type": "markdown",
   "id": "8bb76050-770a-4c34-898d-8cfa040406b0",
   "metadata": {
    "jp-MarkdownHeadingCollapsed": true,
    "tags": []
   },
   "source": [
    "### Compare With SVM (Optional)"
   ]
  },
  {
   "cell_type": "code",
   "execution_count": 61,
   "id": "106b54e8-2351-4f3e-8fec-dcc8f9fd7bad",
   "metadata": {
    "tags": []
   },
   "outputs": [],
   "source": [
    "from sklearn.svm import SVC\n",
    "from sklearn.metrics import accuracy_score, classification_report"
   ]
  },
  {
   "cell_type": "code",
   "execution_count": 62,
   "id": "a3453efd-c221-47f1-a632-e30c22c2b31e",
   "metadata": {
    "tags": []
   },
   "outputs": [
    {
     "name": "stdout",
     "output_type": "stream",
     "text": [
      "Accuracy: 0.9583333333333334\n",
      "Classification Report:\n",
      "              precision    recall  f1-score   support\n",
      "\n",
      "           0       0.98      0.97      0.98       102\n",
      "           1       0.84      0.89      0.86        18\n",
      "\n",
      "    accuracy                           0.96       120\n",
      "   macro avg       0.91      0.93      0.92       120\n",
      "weighted avg       0.96      0.96      0.96       120\n",
      "\n"
     ]
    }
   ],
   "source": [
    "model = SVC(kernel='linear') \n",
    "\n",
    "model.fit(X_train, y_train)\n",
    "\n",
    "y_pred = model.predict(X_test)\n",
    "\n",
    "# Evaluate the model\n",
    "accuracy = accuracy_score(y_test, y_pred)\n",
    "report = classification_report(y_test, y_pred)\n",
    "\n",
    "print(f\"Accuracy: {accuracy}\")\n",
    "print(\"Classification Report:\")\n",
    "print(report)"
   ]
  },
  {
   "cell_type": "code",
   "execution_count": null,
   "id": "1efc7e10-3087-4657-ab65-c6661155dec6",
   "metadata": {
    "tags": []
   },
   "outputs": [],
   "source": []
  },
  {
   "cell_type": "code",
   "execution_count": null,
   "id": "c8074ffa-68d7-45f7-9f3b-ea277ed61b00",
   "metadata": {},
   "outputs": [],
   "source": []
  }
 ],
 "metadata": {
  "kernelspec": {
   "display_name": "Python 3 (ipykernel)",
   "language": "python",
   "name": "python3"
  },
  "language_info": {
   "codemirror_mode": {
    "name": "ipython",
    "version": 3
   },
   "file_extension": ".py",
   "mimetype": "text/x-python",
   "name": "python",
   "nbconvert_exporter": "python",
   "pygments_lexer": "ipython3",
   "version": "3.11.4"
  }
 },
 "nbformat": 4,
 "nbformat_minor": 5
}

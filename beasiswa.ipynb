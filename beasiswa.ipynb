{
 "cells": [
  {
   "cell_type": "markdown",
   "id": "016e020f-b15a-44f6-9f96-3c2c1cb16a7f",
   "metadata": {},
   "source": [
    "# Prediksi Penerimaan Beasiswa - Naive Byes"
   ]
  },
  {
   "cell_type": "code",
   "execution_count": 83,
   "id": "03609add-a985-4e71-a6a9-e2ed88e913ff",
   "metadata": {
    "tags": []
   },
   "outputs": [],
   "source": [
    "import pandas as pd\n",
    "import matplotlib.pyplot as plt\n",
    "import seaborn as sns\n",
    "import numpy as np"
   ]
  },
  {
   "cell_type": "code",
   "execution_count": 84,
   "id": "da2bd18a-f925-48ed-a48c-b868177e918a",
   "metadata": {
    "tags": []
   },
   "outputs": [],
   "source": [
    "df = pd.read_csv('beasiswa.csv')"
   ]
  },
  {
   "cell_type": "code",
   "execution_count": 85,
   "id": "b4765322-5bdf-47b3-80af-8a3ca21bfada",
   "metadata": {
    "tags": []
   },
   "outputs": [
    {
     "data": {
      "text/html": [
       "<div>\n",
       "<style scoped>\n",
       "    .dataframe tbody tr th:only-of-type {\n",
       "        vertical-align: middle;\n",
       "    }\n",
       "\n",
       "    .dataframe tbody tr th {\n",
       "        vertical-align: top;\n",
       "    }\n",
       "\n",
       "    .dataframe thead th {\n",
       "        text-align: right;\n",
       "    }\n",
       "</style>\n",
       "<table border=\"1\" class=\"dataframe\">\n",
       "  <thead>\n",
       "    <tr style=\"text-align: right;\">\n",
       "      <th></th>\n",
       "      <th>No</th>\n",
       "      <th>Nama Lengkap</th>\n",
       "      <th>Prodi</th>\n",
       "      <th>Jenis Kelamin</th>\n",
       "      <th>Jarak Tempat Tinggal kekampus (Km)</th>\n",
       "      <th>Asal Sekolah</th>\n",
       "      <th>Tahun Lulus</th>\n",
       "      <th>SKS</th>\n",
       "      <th>Ikut Organisasi</th>\n",
       "      <th>Ikut UKM</th>\n",
       "      <th>IPK</th>\n",
       "      <th>IPK2</th>\n",
       "      <th>Pekerjaan Orang Tua</th>\n",
       "      <th>Penghasilan</th>\n",
       "      <th>Tanggungan</th>\n",
       "      <th>Status Beasiswa</th>\n",
       "    </tr>\n",
       "  </thead>\n",
       "  <tbody>\n",
       "    <tr>\n",
       "      <th>0</th>\n",
       "      <td>1</td>\n",
       "      <td>GALAN PRASETIO</td>\n",
       "      <td>D III Keperawatan | Reguler</td>\n",
       "      <td>L</td>\n",
       "      <td>Dekat</td>\n",
       "      <td>SMAN 1 GEDONG TATAAN</td>\n",
       "      <td>2020</td>\n",
       "      <td>21</td>\n",
       "      <td>Ikut</td>\n",
       "      <td>Ikut</td>\n",
       "      <td>3,57</td>\n",
       "      <td>Sangat Baik</td>\n",
       "      <td>Wiraswasta</td>\n",
       "      <td>Sedang</td>\n",
       "      <td>4</td>\n",
       "      <td>NaN</td>\n",
       "    </tr>\n",
       "    <tr>\n",
       "      <th>1</th>\n",
       "      <td>2</td>\n",
       "      <td>FINGKY RANDIANSYAH</td>\n",
       "      <td>D III Keperawatan | Reguler</td>\n",
       "      <td>L</td>\n",
       "      <td>Dekat</td>\n",
       "      <td>SMK HAMPAR BAIDURI</td>\n",
       "      <td>2020</td>\n",
       "      <td>21</td>\n",
       "      <td>Tidak</td>\n",
       "      <td>Ikut</td>\n",
       "      <td>2,95</td>\n",
       "      <td>Baik</td>\n",
       "      <td>Buruh</td>\n",
       "      <td>Sedang</td>\n",
       "      <td>2</td>\n",
       "      <td>NaN</td>\n",
       "    </tr>\n",
       "    <tr>\n",
       "      <th>2</th>\n",
       "      <td>3</td>\n",
       "      <td>ADELIA PANE</td>\n",
       "      <td>D III Keperawatan | Reguler</td>\n",
       "      <td>P</td>\n",
       "      <td>Dekat</td>\n",
       "      <td>SMK HAMPAR BAIDURI</td>\n",
       "      <td>2020</td>\n",
       "      <td>21</td>\n",
       "      <td>Tidak</td>\n",
       "      <td>Ikut</td>\n",
       "      <td>3,67</td>\n",
       "      <td>Sangat Baik</td>\n",
       "      <td>Petani</td>\n",
       "      <td>Sedang</td>\n",
       "      <td>4</td>\n",
       "      <td>NaN</td>\n",
       "    </tr>\n",
       "    <tr>\n",
       "      <th>3</th>\n",
       "      <td>4</td>\n",
       "      <td>DWI HANDOKO</td>\n",
       "      <td>D III Keperawatan | Reguler</td>\n",
       "      <td>L</td>\n",
       "      <td>Dekat</td>\n",
       "      <td>SMA MA'ARIF NU BUMIRESTU</td>\n",
       "      <td>2020</td>\n",
       "      <td>21</td>\n",
       "      <td>Tidak</td>\n",
       "      <td>Ikut</td>\n",
       "      <td>3,19</td>\n",
       "      <td>Baik</td>\n",
       "      <td>Wiraswasta</td>\n",
       "      <td>Tinggi</td>\n",
       "      <td>2</td>\n",
       "      <td>NaN</td>\n",
       "    </tr>\n",
       "    <tr>\n",
       "      <th>4</th>\n",
       "      <td>5</td>\n",
       "      <td>DESTRI FERAWANTI GUSTINI</td>\n",
       "      <td>D III Keperawatan | Reguler</td>\n",
       "      <td>P</td>\n",
       "      <td>Jauh</td>\n",
       "      <td>SMA 2 NEGERI AGUNG</td>\n",
       "      <td>2020</td>\n",
       "      <td>21</td>\n",
       "      <td>Tidak</td>\n",
       "      <td>Ikut</td>\n",
       "      <td>3,19</td>\n",
       "      <td>Baik</td>\n",
       "      <td>Wiraswasta</td>\n",
       "      <td>Sedang</td>\n",
       "      <td>2</td>\n",
       "      <td>NaN</td>\n",
       "    </tr>\n",
       "  </tbody>\n",
       "</table>\n",
       "</div>"
      ],
      "text/plain": [
       "   No              Nama Lengkap                        Prodi Jenis Kelamin  \\\n",
       "0   1            GALAN PRASETIO  D III Keperawatan | Reguler             L   \n",
       "1   2        FINGKY RANDIANSYAH  D III Keperawatan | Reguler             L   \n",
       "2   3               ADELIA PANE  D III Keperawatan | Reguler             P   \n",
       "3   4               DWI HANDOKO  D III Keperawatan | Reguler             L   \n",
       "4   5  DESTRI FERAWANTI GUSTINI  D III Keperawatan | Reguler             P   \n",
       "\n",
       "  Jarak Tempat Tinggal kekampus (Km)              Asal Sekolah  Tahun Lulus  \\\n",
       "0                              Dekat      SMAN 1 GEDONG TATAAN         2020   \n",
       "1                              Dekat        SMK HAMPAR BAIDURI         2020   \n",
       "2                              Dekat        SMK HAMPAR BAIDURI         2020   \n",
       "3                              Dekat  SMA MA'ARIF NU BUMIRESTU         2020   \n",
       "4                               Jauh        SMA 2 NEGERI AGUNG         2020   \n",
       "\n",
       "   SKS Ikut Organisasi Ikut UKM   IPK         IPK2 Pekerjaan Orang Tua  \\\n",
       "0   21            Ikut     Ikut  3,57  Sangat Baik          Wiraswasta   \n",
       "1   21           Tidak     Ikut  2,95         Baik               Buruh   \n",
       "2   21           Tidak     Ikut  3,67  Sangat Baik              Petani   \n",
       "3   21           Tidak     Ikut  3,19         Baik          Wiraswasta   \n",
       "4   21           Tidak     Ikut  3,19         Baik          Wiraswasta   \n",
       "\n",
       "  Penghasilan  Tanggungan  Status Beasiswa  \n",
       "0      Sedang           4              NaN  \n",
       "1      Sedang           2              NaN  \n",
       "2      Sedang           4              NaN  \n",
       "3      Tinggi           2              NaN  \n",
       "4      Sedang           2              NaN  "
      ]
     },
     "execution_count": 85,
     "metadata": {},
     "output_type": "execute_result"
    }
   ],
   "source": [
    "df.head()"
   ]
  },
  {
   "cell_type": "markdown",
   "id": "b92cfee5-518f-400f-8243-698afe207731",
   "metadata": {},
   "source": [
    "### Data Cleaning"
   ]
  },
  {
   "cell_type": "code",
   "execution_count": 86,
   "id": "7c9dbd0b-8bd9-4c24-82c4-8c6e5fbaa91d",
   "metadata": {
    "tags": []
   },
   "outputs": [
    {
     "data": {
      "text/plain": [
       "No                                      0\n",
       "Nama Lengkap                            0\n",
       "Prodi                                   0\n",
       "Jenis Kelamin                           0\n",
       "Jarak Tempat Tinggal kekampus (Km)      0\n",
       "Asal Sekolah                            0\n",
       "Tahun Lulus                             0\n",
       "SKS                                     0\n",
       "Ikut Organisasi                         0\n",
       "Ikut UKM                                0\n",
       "IPK                                     0\n",
       "IPK2                                    0\n",
       "Pekerjaan Orang Tua                     0\n",
       "Penghasilan                             0\n",
       "Tanggungan                              0\n",
       "Status Beasiswa                       596\n",
       "dtype: int64"
      ]
     },
     "execution_count": 86,
     "metadata": {},
     "output_type": "execute_result"
    }
   ],
   "source": [
    "df.isna().sum()"
   ]
  },
  {
   "cell_type": "code",
   "execution_count": 87,
   "id": "6bcf81aa-e3ff-4d6f-a177-fadb1a64c2e2",
   "metadata": {
    "tags": []
   },
   "outputs": [
    {
     "data": {
      "text/plain": [
       "(596, 16)"
      ]
     },
     "execution_count": 87,
     "metadata": {},
     "output_type": "execute_result"
    }
   ],
   "source": [
    "df.shape"
   ]
  },
  {
   "cell_type": "code",
   "execution_count": 88,
   "id": "a10205fb-f112-4743-bf80-91c34f7f58e0",
   "metadata": {
    "tags": []
   },
   "outputs": [
    {
     "name": "stdout",
     "output_type": "stream",
     "text": [
      "<class 'pandas.core.frame.DataFrame'>\n",
      "RangeIndex: 596 entries, 0 to 595\n",
      "Data columns (total 16 columns):\n",
      " #   Column                              Non-Null Count  Dtype  \n",
      "---  ------                              --------------  -----  \n",
      " 0   No                                  596 non-null    int64  \n",
      " 1   Nama Lengkap                        596 non-null    object \n",
      " 2   Prodi                               596 non-null    object \n",
      " 3   Jenis Kelamin                       596 non-null    object \n",
      " 4   Jarak Tempat Tinggal kekampus (Km)  596 non-null    object \n",
      " 5   Asal Sekolah                        596 non-null    object \n",
      " 6   Tahun Lulus                         596 non-null    int64  \n",
      " 7   SKS                                 596 non-null    int64  \n",
      " 8   Ikut Organisasi                     596 non-null    object \n",
      " 9   Ikut UKM                            596 non-null    object \n",
      " 10  IPK                                 596 non-null    object \n",
      " 11  IPK2                                596 non-null    object \n",
      " 12  Pekerjaan Orang Tua                 596 non-null    object \n",
      " 13  Penghasilan                         596 non-null    object \n",
      " 14  Tanggungan                          596 non-null    int64  \n",
      " 15  Status Beasiswa                     0 non-null      float64\n",
      "dtypes: float64(1), int64(4), object(11)\n",
      "memory usage: 74.6+ KB\n"
     ]
    }
   ],
   "source": [
    "df.info()"
   ]
  },
  {
   "cell_type": "code",
   "execution_count": 89,
   "id": "3bc5d502-52ef-438f-b499-04eb782db908",
   "metadata": {
    "tags": []
   },
   "outputs": [
    {
     "data": {
      "text/plain": [
       "0      False\n",
       "1      False\n",
       "2      False\n",
       "3      False\n",
       "4      False\n",
       "       ...  \n",
       "591    False\n",
       "592    False\n",
       "593    False\n",
       "594    False\n",
       "595    False\n",
       "Length: 596, dtype: bool"
      ]
     },
     "execution_count": 89,
     "metadata": {},
     "output_type": "execute_result"
    }
   ],
   "source": [
    "df.duplicated()"
   ]
  },
  {
   "cell_type": "markdown",
   "id": "e60203fe-e06b-44b7-93d5-7159a85b4053",
   "metadata": {
    "tags": []
   },
   "source": [
    "### Pre processing & EDA"
   ]
  },
  {
   "cell_type": "code",
   "execution_count": 90,
   "id": "ecdb6d67-cba2-4e4b-a7ce-57abe053a497",
   "metadata": {
    "tags": []
   },
   "outputs": [],
   "source": [
    "df['IPK'] = df['IPK'].str.replace(',', '.').astype(float)"
   ]
  },
  {
   "cell_type": "code",
   "execution_count": 91,
   "id": "e9c72d54-632a-440e-ab5c-dd07dff4d715",
   "metadata": {
    "tags": []
   },
   "outputs": [
    {
     "name": "stdout",
     "output_type": "stream",
     "text": [
      "<class 'pandas.core.frame.DataFrame'>\n",
      "RangeIndex: 596 entries, 0 to 595\n",
      "Data columns (total 16 columns):\n",
      " #   Column                              Non-Null Count  Dtype  \n",
      "---  ------                              --------------  -----  \n",
      " 0   No                                  596 non-null    int64  \n",
      " 1   Nama Lengkap                        596 non-null    object \n",
      " 2   Prodi                               596 non-null    object \n",
      " 3   Jenis Kelamin                       596 non-null    object \n",
      " 4   Jarak Tempat Tinggal kekampus (Km)  596 non-null    object \n",
      " 5   Asal Sekolah                        596 non-null    object \n",
      " 6   Tahun Lulus                         596 non-null    int64  \n",
      " 7   SKS                                 596 non-null    int64  \n",
      " 8   Ikut Organisasi                     596 non-null    object \n",
      " 9   Ikut UKM                            596 non-null    object \n",
      " 10  IPK                                 596 non-null    float64\n",
      " 11  IPK2                                596 non-null    object \n",
      " 12  Pekerjaan Orang Tua                 596 non-null    object \n",
      " 13  Penghasilan                         596 non-null    object \n",
      " 14  Tanggungan                          596 non-null    int64  \n",
      " 15  Status Beasiswa                     0 non-null      float64\n",
      "dtypes: float64(2), int64(4), object(10)\n",
      "memory usage: 74.6+ KB\n"
     ]
    }
   ],
   "source": [
    "df.info()"
   ]
  },
  {
   "cell_type": "code",
   "execution_count": null,
   "id": "f93b65d1-e0a5-42f8-822c-c21091a5e47e",
   "metadata": {
    "tags": []
   },
   "outputs": [],
   "source": []
  },
  {
   "cell_type": "code",
   "execution_count": 92,
   "id": "5d4071fb-2542-4ce7-b346-1bd9d515e7d0",
   "metadata": {
    "tags": []
   },
   "outputs": [
    {
     "data": {
      "image/png": "[encoded data removed]",
      "text/plain": [
       "<Figure size 400x600 with 1 Axes>"
      ]
     },
     "metadata": {},
     "output_type": "display_data"
    }
   ],
   "source": [
    "plt.figure(figsize=(4, 6))\n",
    "\n",
    "# Barplot IPK\n",
    "sns.barplot(x='Jenis Kelamin', y='IPK', data=df)\n",
    "plt.title('IPK Mahasiswa')\n",
    "plt.xlabel('Jenis Kelasmin')\n",
    "plt.ylabel('IPK')\n",
    "plt.ylim(0, 4) \n",
    "plt.show()"
   ]
  },
  {
   "cell_type": "code",
   "execution_count": 93,
   "id": "5d09cbd2-bdb0-4e42-87eb-4c1e165cd45b",
   "metadata": {
    "tags": []
   },
   "outputs": [
    {
     "data": {
      "image/png": "[encoded data removed]",
      "text/plain": [
       "<Figure size 640x480 with 1 Axes>"
      ]
     },
     "metadata": {},
     "output_type": "display_data"
    }
   ],
   "source": [
    "# Barplot IPK\n",
    "sns.barplot(x='Penghasilan', y='IPK', data=df)\n",
    "plt.title('IPK Mahasiswa')\n",
    "plt.xlabel('Penghasilan Orang Tua')\n",
    "plt.ylabel('IPK')\n",
    "plt.ylim(0, 4) \n",
    "plt.show()"
   ]
  },
  {
   "cell_type": "code",
   "execution_count": 94,
   "id": "87742f3d-62f9-4e6f-a374-e42d14265fa7",
   "metadata": {
    "tags": []
   },
   "outputs": [
    {
     "data": {
      "image/png": "[encoded data removed]",
      "text/plain": [
       "<Figure size 1400x600 with 1 Axes>"
      ]
     },
     "metadata": {},
     "output_type": "display_data"
    }
   ],
   "source": [
    "plt.figure(figsize=(14, 6))\n",
    "# Barplot Prodi\n",
    "sns.barplot(x='Pekerjaan Orang Tua', y='Tanggungan', data=df)\n",
    "plt.title('Pekerjaan Orang Tua')\n",
    "plt.xlabel('Pekerjaan Orang Tua')\n",
    "plt.ylabel('Tanggungan Orang Tua')\n",
    "plt.ylim(0, 4) \n",
    "plt.show()"
   ]
  },
  {
   "cell_type": "markdown",
   "id": "8602b4e5-ccc0-4536-8050-46af28b790d0",
   "metadata": {
    "tags": []
   },
   "source": [
    "### One Hot Encoding"
   ]
  },
  {
   "cell_type": "markdown",
   "id": "5fa35a98-f98a-4db0-a2bc-960e134ab267",
   "metadata": {
    "tags": []
   },
   "source": [
    "#### Data Nominal"
   ]
  },
  {
   "cell_type": "code",
   "execution_count": 95,
   "id": "aabf9e02-7e04-4345-92ff-59e07dd0b4b3",
   "metadata": {
    "tags": []
   },
   "outputs": [],
   "source": [
    "jenisKelamin = {'P':0, 'L':1}\n",
    "df['Jenis Kelamin'] = df['Jenis Kelamin'].map(jenisKelamin)"
   ]
  },
  {
   "cell_type": "code",
   "execution_count": 96,
   "id": "48bb8408-e6d9-4b2e-aea1-cf3bfaa7593e",
   "metadata": {
    "tags": []
   },
   "outputs": [],
   "source": [
    "organisasi = {'Tidak':0, 'Ikut':1}\n",
    "df['Ikut Organisasi'] = df['Ikut Organisasi'].map(organisasi)"
   ]
  },
  {
   "cell_type": "code",
   "execution_count": 97,
   "id": "af570d0f-451e-433d-a4a1-2f44b222749b",
   "metadata": {
    "tags": []
   },
   "outputs": [],
   "source": [
    "ukm = {'Tidak':0, 'Ikut':1}\n",
    "df['Ikut UKM'] = df['Ikut UKM'].map(ukm)"
   ]
  },
  {
   "cell_type": "code",
   "execution_count": 98,
   "id": "ccd56116-8f8c-4bba-8e5c-d3545f08a626",
   "metadata": {
    "tags": []
   },
   "outputs": [
    {
     "data": {
      "text/html": [
       "<div>\n",
       "<style scoped>\n",
       "    .dataframe tbody tr th:only-of-type {\n",
       "        vertical-align: middle;\n",
       "    }\n",
       "\n",
       "    .dataframe tbody tr th {\n",
       "        vertical-align: top;\n",
       "    }\n",
       "\n",
       "    .dataframe thead th {\n",
       "        text-align: right;\n",
       "    }\n",
       "</style>\n",
       "<table border=\"1\" class=\"dataframe\">\n",
       "  <thead>\n",
       "    <tr style=\"text-align: right;\">\n",
       "      <th></th>\n",
       "      <th>No</th>\n",
       "      <th>Nama Lengkap</th>\n",
       "      <th>Prodi</th>\n",
       "      <th>Jenis Kelamin</th>\n",
       "      <th>Jarak Tempat Tinggal kekampus (Km)</th>\n",
       "      <th>Asal Sekolah</th>\n",
       "      <th>Tahun Lulus</th>\n",
       "      <th>SKS</th>\n",
       "      <th>Ikut Organisasi</th>\n",
       "      <th>Ikut UKM</th>\n",
       "      <th>IPK</th>\n",
       "      <th>IPK2</th>\n",
       "      <th>Pekerjaan Orang Tua</th>\n",
       "      <th>Penghasilan</th>\n",
       "      <th>Tanggungan</th>\n",
       "      <th>Status Beasiswa</th>\n",
       "    </tr>\n",
       "  </thead>\n",
       "  <tbody>\n",
       "    <tr>\n",
       "      <th>0</th>\n",
       "      <td>1</td>\n",
       "      <td>GALAN PRASETIO</td>\n",
       "      <td>D III Keperawatan | Reguler</td>\n",
       "      <td>1</td>\n",
       "      <td>Dekat</td>\n",
       "      <td>SMAN 1 GEDONG TATAAN</td>\n",
       "      <td>2020</td>\n",
       "      <td>21</td>\n",
       "      <td>1</td>\n",
       "      <td>1</td>\n",
       "      <td>3.57</td>\n",
       "      <td>Sangat Baik</td>\n",
       "      <td>Wiraswasta</td>\n",
       "      <td>Sedang</td>\n",
       "      <td>4</td>\n",
       "      <td>NaN</td>\n",
       "    </tr>\n",
       "    <tr>\n",
       "      <th>1</th>\n",
       "      <td>2</td>\n",
       "      <td>FINGKY RANDIANSYAH</td>\n",
       "      <td>D III Keperawatan | Reguler</td>\n",
       "      <td>1</td>\n",
       "      <td>Dekat</td>\n",
       "      <td>SMK HAMPAR BAIDURI</td>\n",
       "      <td>2020</td>\n",
       "      <td>21</td>\n",
       "      <td>0</td>\n",
       "      <td>1</td>\n",
       "      <td>2.95</td>\n",
       "      <td>Baik</td>\n",
       "      <td>Buruh</td>\n",
       "      <td>Sedang</td>\n",
       "      <td>2</td>\n",
       "      <td>NaN</td>\n",
       "    </tr>\n",
       "    <tr>\n",
       "      <th>2</th>\n",
       "      <td>3</td>\n",
       "      <td>ADELIA PANE</td>\n",
       "      <td>D III Keperawatan | Reguler</td>\n",
       "      <td>0</td>\n",
       "      <td>Dekat</td>\n",
       "      <td>SMK HAMPAR BAIDURI</td>\n",
       "      <td>2020</td>\n",
       "      <td>21</td>\n",
       "      <td>0</td>\n",
       "      <td>1</td>\n",
       "      <td>3.67</td>\n",
       "      <td>Sangat Baik</td>\n",
       "      <td>Petani</td>\n",
       "      <td>Sedang</td>\n",
       "      <td>4</td>\n",
       "      <td>NaN</td>\n",
       "    </tr>\n",
       "    <tr>\n",
       "      <th>3</th>\n",
       "      <td>4</td>\n",
       "      <td>DWI HANDOKO</td>\n",
       "      <td>D III Keperawatan | Reguler</td>\n",
       "      <td>1</td>\n",
       "      <td>Dekat</td>\n",
       "      <td>SMA MA'ARIF NU BUMIRESTU</td>\n",
       "      <td>2020</td>\n",
       "      <td>21</td>\n",
       "      <td>0</td>\n",
       "      <td>1</td>\n",
       "      <td>3.19</td>\n",
       "      <td>Baik</td>\n",
       "      <td>Wiraswasta</td>\n",
       "      <td>Tinggi</td>\n",
       "      <td>2</td>\n",
       "      <td>NaN</td>\n",
       "    </tr>\n",
       "    <tr>\n",
       "      <th>4</th>\n",
       "      <td>5</td>\n",
       "      <td>DESTRI FERAWANTI GUSTINI</td>\n",
       "      <td>D III Keperawatan | Reguler</td>\n",
       "      <td>0</td>\n",
       "      <td>Jauh</td>\n",
       "      <td>SMA 2 NEGERI AGUNG</td>\n",
       "      <td>2020</td>\n",
       "      <td>21</td>\n",
       "      <td>0</td>\n",
       "      <td>1</td>\n",
       "      <td>3.19</td>\n",
       "      <td>Baik</td>\n",
       "      <td>Wiraswasta</td>\n",
       "      <td>Sedang</td>\n",
       "      <td>2</td>\n",
       "      <td>NaN</td>\n",
       "    </tr>\n",
       "  </tbody>\n",
       "</table>\n",
       "</div>"
      ],
      "text/plain": [
       "   No              Nama Lengkap                        Prodi  Jenis Kelamin  \\\n",
       "0   1            GALAN PRASETIO  D III Keperawatan | Reguler              1   \n",
       "1   2        FINGKY RANDIANSYAH  D III Keperawatan | Reguler              1   \n",
       "2   3               ADELIA PANE  D III Keperawatan | Reguler              0   \n",
       "3   4               DWI HANDOKO  D III Keperawatan | Reguler              1   \n",
       "4   5  DESTRI FERAWANTI GUSTINI  D III Keperawatan | Reguler              0   \n",
       "\n",
       "  Jarak Tempat Tinggal kekampus (Km)              Asal Sekolah  Tahun Lulus  \\\n",
       "0                              Dekat      SMAN 1 GEDONG TATAAN         2020   \n",
       "1                              Dekat        SMK HAMPAR BAIDURI         2020   \n",
       "2                              Dekat        SMK HAMPAR BAIDURI         2020   \n",
       "3                              Dekat  SMA MA'ARIF NU BUMIRESTU         2020   \n",
       "4                               Jauh        SMA 2 NEGERI AGUNG         2020   \n",
       "\n",
       "   SKS  Ikut Organisasi  Ikut UKM   IPK         IPK2 Pekerjaan Orang Tua  \\\n",
       "0   21                1         1  3.57  Sangat Baik          Wiraswasta   \n",
       "1   21                0         1  2.95         Baik               Buruh   \n",
       "2   21                0         1  3.67  Sangat Baik              Petani   \n",
       "3   21                0         1  3.19         Baik          Wiraswasta   \n",
       "4   21                0         1  3.19         Baik          Wiraswasta   \n",
       "\n",
       "  Penghasilan  Tanggungan  Status Beasiswa  \n",
       "0      Sedang           4              NaN  \n",
       "1      Sedang           2              NaN  \n",
       "2      Sedang           4              NaN  \n",
       "3      Tinggi           2              NaN  \n",
       "4      Sedang           2              NaN  "
      ]
     },
     "execution_count": 98,
     "metadata": {},
     "output_type": "execute_result"
    }
   ],
   "source": [
    "df.head()"
   ]
  },
  {
   "cell_type": "code",
   "execution_count": 99,
   "id": "4cda6333-4fa6-4dd9-9bc8-063dbecb8392",
   "metadata": {
    "tags": []
   },
   "outputs": [
    {
     "data": {
      "text/plain": [
       "array(['Sedang', 'Tinggi', 'Rendah'], dtype=object)"
      ]
     },
     "execution_count": 99,
     "metadata": {},
     "output_type": "execute_result"
    }
   ],
   "source": [
    "df['Penghasilan'].unique()"
   ]
  },
  {
   "cell_type": "code",
   "execution_count": 100,
   "id": "5f322d97-5fd0-4638-8698-0851256b6684",
   "metadata": {
    "tags": []
   },
   "outputs": [],
   "source": [
    "gaji = {'Rendah':0, 'Sedang':1, 'Tinggi':2}\n",
    "df['Penghasilan'] = df['Penghasilan'].map(gaji)"
   ]
  },
  {
   "cell_type": "code",
   "execution_count": 101,
   "id": "2c68ac10-ef23-4408-8892-393c87e3e428",
   "metadata": {
    "tags": []
   },
   "outputs": [
    {
     "data": {
      "text/plain": [
       "array(['Dekat', 'Jauh'], dtype=object)"
      ]
     },
     "execution_count": 101,
     "metadata": {},
     "output_type": "execute_result"
    }
   ],
   "source": [
    "df['Jarak Tempat Tinggal kekampus (Km)'].unique()"
   ]
  },
  {
   "cell_type": "code",
   "execution_count": 102,
   "id": "27b36b85-2e87-4975-a232-63ef24a5e7e5",
   "metadata": {
    "tags": []
   },
   "outputs": [],
   "source": [
    "jarak = {'Dekat':0, 'Jauh':1}\n",
    "df['Jarak Tempat Tinggal kekampus (Km)'] = df['Jarak Tempat Tinggal kekampus (Km)'].map(jarak)"
   ]
  },
  {
   "cell_type": "code",
   "execution_count": 103,
   "id": "b5bf1f85-1a62-4fe9-9fde-0a46318c2437",
   "metadata": {
    "tags": []
   },
   "outputs": [
    {
     "data": {
      "text/html": [
       "<div>\n",
       "<style scoped>\n",
       "    .dataframe tbody tr th:only-of-type {\n",
       "        vertical-align: middle;\n",
       "    }\n",
       "\n",
       "    .dataframe tbody tr th {\n",
       "        vertical-align: top;\n",
       "    }\n",
       "\n",
       "    .dataframe thead th {\n",
       "        text-align: right;\n",
       "    }\n",
       "</style>\n",
       "<table border=\"1\" class=\"dataframe\">\n",
       "  <thead>\n",
       "    <tr style=\"text-align: right;\">\n",
       "      <th></th>\n",
       "      <th>No</th>\n",
       "      <th>Nama Lengkap</th>\n",
       "      <th>Prodi</th>\n",
       "      <th>Jenis Kelamin</th>\n",
       "      <th>Jarak Tempat Tinggal kekampus (Km)</th>\n",
       "      <th>Asal Sekolah</th>\n",
       "      <th>Tahun Lulus</th>\n",
       "      <th>SKS</th>\n",
       "      <th>Ikut Organisasi</th>\n",
       "      <th>Ikut UKM</th>\n",
       "      <th>IPK</th>\n",
       "      <th>IPK2</th>\n",
       "      <th>Pekerjaan Orang Tua</th>\n",
       "      <th>Penghasilan</th>\n",
       "      <th>Tanggungan</th>\n",
       "      <th>Status Beasiswa</th>\n",
       "    </tr>\n",
       "  </thead>\n",
       "  <tbody>\n",
       "    <tr>\n",
       "      <th>0</th>\n",
       "      <td>1</td>\n",
       "      <td>GALAN PRASETIO</td>\n",
       "      <td>D III Keperawatan | Reguler</td>\n",
       "      <td>1</td>\n",
       "      <td>0</td>\n",
       "      <td>SMAN 1 GEDONG TATAAN</td>\n",
       "      <td>2020</td>\n",
       "      <td>21</td>\n",
       "      <td>1</td>\n",
       "      <td>1</td>\n",
       "      <td>3.57</td>\n",
       "      <td>Sangat Baik</td>\n",
       "      <td>Wiraswasta</td>\n",
       "      <td>1</td>\n",
       "      <td>4</td>\n",
       "      <td>NaN</td>\n",
       "    </tr>\n",
       "    <tr>\n",
       "      <th>1</th>\n",
       "      <td>2</td>\n",
       "      <td>FINGKY RANDIANSYAH</td>\n",
       "      <td>D III Keperawatan | Reguler</td>\n",
       "      <td>1</td>\n",
       "      <td>0</td>\n",
       "      <td>SMK HAMPAR BAIDURI</td>\n",
       "      <td>2020</td>\n",
       "      <td>21</td>\n",
       "      <td>0</td>\n",
       "      <td>1</td>\n",
       "      <td>2.95</td>\n",
       "      <td>Baik</td>\n",
       "      <td>Buruh</td>\n",
       "      <td>1</td>\n",
       "      <td>2</td>\n",
       "      <td>NaN</td>\n",
       "    </tr>\n",
       "    <tr>\n",
       "      <th>2</th>\n",
       "      <td>3</td>\n",
       "      <td>ADELIA PANE</td>\n",
       "      <td>D III Keperawatan | Reguler</td>\n",
       "      <td>0</td>\n",
       "      <td>0</td>\n",
       "      <td>SMK HAMPAR BAIDURI</td>\n",
       "      <td>2020</td>\n",
       "      <td>21</td>\n",
       "      <td>0</td>\n",
       "      <td>1</td>\n",
       "      <td>3.67</td>\n",
       "      <td>Sangat Baik</td>\n",
       "      <td>Petani</td>\n",
       "      <td>1</td>\n",
       "      <td>4</td>\n",
       "      <td>NaN</td>\n",
       "    </tr>\n",
       "    <tr>\n",
       "      <th>3</th>\n",
       "      <td>4</td>\n",
       "      <td>DWI HANDOKO</td>\n",
       "      <td>D III Keperawatan | Reguler</td>\n",
       "      <td>1</td>\n",
       "      <td>0</td>\n",
       "      <td>SMA MA'ARIF NU BUMIRESTU</td>\n",
       "      <td>2020</td>\n",
       "      <td>21</td>\n",
       "      <td>0</td>\n",
       "      <td>1</td>\n",
       "      <td>3.19</td>\n",
       "      <td>Baik</td>\n",
       "      <td>Wiraswasta</td>\n",
       "      <td>2</td>\n",
       "      <td>2</td>\n",
       "      <td>NaN</td>\n",
       "    </tr>\n",
       "    <tr>\n",
       "      <th>4</th>\n",
       "      <td>5</td>\n",
       "      <td>DESTRI FERAWANTI GUSTINI</td>\n",
       "      <td>D III Keperawatan | Reguler</td>\n",
       "      <td>0</td>\n",
       "      <td>1</td>\n",
       "      <td>SMA 2 NEGERI AGUNG</td>\n",
       "      <td>2020</td>\n",
       "      <td>21</td>\n",
       "      <td>0</td>\n",
       "      <td>1</td>\n",
       "      <td>3.19</td>\n",
       "      <td>Baik</td>\n",
       "      <td>Wiraswasta</td>\n",
       "      <td>1</td>\n",
       "      <td>2</td>\n",
       "      <td>NaN</td>\n",
       "    </tr>\n",
       "  </tbody>\n",
       "</table>\n",
       "</div>"
      ],
      "text/plain": [
       "   No              Nama Lengkap                        Prodi  Jenis Kelamin  \\\n",
       "0   1            GALAN PRASETIO  D III Keperawatan | Reguler              1   \n",
       "1   2        FINGKY RANDIANSYAH  D III Keperawatan | Reguler              1   \n",
       "2   3               ADELIA PANE  D III Keperawatan | Reguler              0   \n",
       "3   4               DWI HANDOKO  D III Keperawatan | Reguler              1   \n",
       "4   5  DESTRI FERAWANTI GUSTINI  D III Keperawatan | Reguler              0   \n",
       "\n",
       "   Jarak Tempat Tinggal kekampus (Km)              Asal Sekolah  Tahun Lulus  \\\n",
       "0                                   0      SMAN 1 GEDONG TATAAN         2020   \n",
       "1                                   0        SMK HAMPAR BAIDURI         2020   \n",
       "2                                   0        SMK HAMPAR BAIDURI         2020   \n",
       "3                                   0  SMA MA'ARIF NU BUMIRESTU         2020   \n",
       "4                                   1        SMA 2 NEGERI AGUNG         2020   \n",
       "\n",
       "   SKS  Ikut Organisasi  Ikut UKM   IPK         IPK2 Pekerjaan Orang Tua  \\\n",
       "0   21                1         1  3.57  Sangat Baik          Wiraswasta   \n",
       "1   21                0         1  2.95         Baik               Buruh   \n",
       "2   21                0         1  3.67  Sangat Baik              Petani   \n",
       "3   21                0         1  3.19         Baik          Wiraswasta   \n",
       "4   21                0         1  3.19         Baik          Wiraswasta   \n",
       "\n",
       "   Penghasilan  Tanggungan  Status Beasiswa  \n",
       "0            1           4              NaN  \n",
       "1            1           2              NaN  \n",
       "2            1           4              NaN  \n",
       "3            2           2              NaN  \n",
       "4            1           2              NaN  "
      ]
     },
     "execution_count": 103,
     "metadata": {},
     "output_type": "execute_result"
    }
   ],
   "source": [
    "df.head()"
   ]
  },
  {
   "cell_type": "code",
   "execution_count": 108,
   "id": "1dca46c1-12f2-4ca8-8562-b133a5089a53",
   "metadata": {
    "tags": []
   },
   "outputs": [
    {
     "data": {
      "text/plain": [
       "array(['Sangat Baik', 'Baik', 'Cukup'], dtype=object)"
      ]
     },
     "execution_count": 108,
     "metadata": {},
     "output_type": "execute_result"
    }
   ],
   "source": [
    "df['IPK2'].unique()"
   ]
  },
  {
   "cell_type": "code",
   "execution_count": 108,
   "id": "0ba16edf-24ea-40e6-a12e-1187b9c4f6a3",
   "metadata": {
    "tags": []
   },
   "outputs": [
    {
     "data": {
      "text/plain": [
       "array(['Sangat Baik', 'Baik', 'Cukup'], dtype=object)"
      ]
     },
     "execution_count": 108,
     "metadata": {},
     "output_type": "execute_result"
    }
   ],
   "source": [
    "ipk2 = {'Sangat Baik':3, 'Baik':2, 'Cukup':1}\n",
    "df['IPK2'] = df['IPK2'].map(jarak)"
   ]
  },
  {
   "cell_type": "markdown",
   "id": "5b502507-43e2-4429-8d59-87b4125859e5",
   "metadata": {},
   "source": [
    "#### Data Ordinal"
   ]
  },
  {
   "cell_type": "code",
   "execution_count": 104,
   "id": "066bbb01-6d8c-402f-9c44-3cb4a333a51d",
   "metadata": {
    "tags": []
   },
   "outputs": [
    {
     "data": {
      "text/plain": [
       "array(['D III Keperawatan | Reguler',\n",
       "       'Pendidikan Guru Sekolah Dasar | Reguler',\n",
       "       'Pendidikan Matematika | Reguler',\n",
       "       'Pendidikan Bahasa dan Sastra Indonesia | Reguler',\n",
       "       'Manajemen | Reguler', 'Bimbingan dan Konseling | Reguler',\n",
       "       'Pendidikan Bahasa Inggris | Reguler', 'S1 Keperawatan | Reguler',\n",
       "       'DIII Kebidanan | Reguler', 'S1 Hukum Ekomoni Syariah | Reguler'],\n",
       "      dtype=object)"
      ]
     },
     "execution_count": 104,
     "metadata": {},
     "output_type": "execute_result"
    }
   ],
   "source": [
    "df['Prodi'].unique()"
   ]
  },
  {
   "cell_type": "code",
   "execution_count": 105,
   "id": "4b94baa4-faec-42a1-a8dd-f1a917374f7d",
   "metadata": {},
   "outputs": [
    {
     "data": {
      "text/plain": [
       "array(['SMAN 1 GEDONG TATAAN', 'SMK HAMPAR BAIDURI',\n",
       "       \"SMA MA'ARIF NU BUMIRESTU\", 'SMA 2 NEGERI AGUNG',\n",
       "       \"MA MATHLA'UL ANWAR\", \"MA MA'ARIF 4 KALIREJO\", 'SMAN 1 KOTAAGUNG',\n",
       "       'SMK HAMPAR BAIDURI KALIANDA', 'MA ANWANUL FALAH',\n",
       "       'SMKN 1 NGAMBUR', 'MA ROUDLOTUL HUDA PURWOSARI PADANG RATU',\n",
       "       'SMK YPIB KOTABUMI LAMPUNG UTARA', 'SMKN SUKOHARJO',\n",
       "       'SMA N 1 SEMAKA', 'SMK YP SERDANG',\n",
       "       'SMAN 1 BUAY PEMACA OKU SELATAN', 'SMA N 1 SENDANG AGUNG',\n",
       "       'SMA N 1 BANGUN REJO', 'SMA N 1 TALANG PADANG',\n",
       "       'SMAN 1 PULAU PANGGUNG', 'MAN 2 BANDAR LAMPUNG',\n",
       "       'SMA MUHAMMADIYAH GISTING', 'SMK YASMIDA AMBARAWA',\n",
       "       'MA MATHLAUL ANWAR GISTING', 'SMA MUHAMMADIYAH 01 MESUJI TIMUR',\n",
       "       'MA PONPES AL-MUHSIN METRO', 'SMA N 1KOTAAGUNG',\n",
       "       'SMA NEGERI 01 GUNUNG ALIP', 'SMAN 1 KIKIM TIMUR',\n",
       "       'MAN 2 BANDARLAMPUNG', 'SMAN 2 PUNDUH PIDADA',\n",
       "       'SMK MUHAMMADIYAH 3 METRO', 'SMAN 4 BANDAR LAMPUNG',\n",
       "       'SMA NEGERI 1 KALIREJO', 'SMAN 1 KALIREJO', 'SMK YPIB KOTABUMI',\n",
       "       'SMAN 1 MERKASA AJI', 'SMK WIDYA YAHYA GADINGREJO',\n",
       "       'SMAN 1 CANDIPURO', 'SMAN 1 TALANGPADANG',\n",
       "       'SMA NEGERI 1 BANGUNREJO', 'SMA ISLAM KEBUMEN',\n",
       "       'SMA N 1 PRINGSEWU', 'SMA NEGERI 1 KALIANDA',\n",
       "       'SMA NEGERI 1 WAY JEPARA', 'SMA N 01 SUKOHARJO',\n",
       "       'SMKN 1 KOTAAGUNG BARAT', 'SMA NEGERI 2 KALIANDA',\n",
       "       'SMA NEGERI 26 BANDUNG', 'MAN 1 PRINGSEWU', 'SMKS AL-QOLAM',\n",
       "       'SMA N 1 SUKOHARJO', 'SMK KESEHATAN HAMPAR BAIDURI KALIANDA',\n",
       "       'SMA NEGERI 1 PULAU PANGGUNG', 'SMA MUH PRINGSEWU',\n",
       "       'SMK N 1 TALANG PADANG', 'SMKN 1 BANDAR LAMPUNG', 'SMA N 2 LIWA',\n",
       "       'SMAN 1 KEDONDONG', 'SMA MUHAMMADIYAH KOTA AGUNG', 'SMA N 1 LIMAU',\n",
       "       'SMK MUHAMMADIYAH 1 PUBIAN', 'SMK MAARIF BANYUMAS',\n",
       "       'MAN 1 OKU SELATAN', 'SMK WIDYA YAHYA', \"SMK MA'ARIF PRINGSEWU\",\n",
       "       'SMAN 1 PADANG CERMIN', 'SMA NEGERI 1 GEDONG TATAAN',\n",
       "       'SMA N 1 SUMBEREJO', 'SMA NEGERI 1 PAGELARAN',\n",
       "       'PONDOK MODERN DARUSSALAM GONTOR', 'SMA N 01 PENAWAR AJI',\n",
       "       'SMA MUHAMMADIYAH 2 BANDAR LAMPUNG', 'SMAN 9 BANDAR LAMPUNG',\n",
       "       'SMA NEGERI 1 SEPUTIH SURABAYA',\n",
       "       'SMK KESEHATAN MITRA BANGSA TULANG BAWANG', 'SMAN 1 BANGUNREJO',\n",
       "       'SMAN 1 BULOK', 'SMA N 1 SUNGKAI UTARA', \"MA MA'ARIF 1 PUNGGUR\",\n",
       "       'SMK FARMASI TUNAS BANGSA', 'SMAN 1 PAGELARAN',\n",
       "       'SMAN 1 TERBANGGI BESAR', 'MA PLUS WALISONGO LAMPUNG UTARA',\n",
       "       'SMA N 1 PULAU PANGGUNG', 'SMA N 1 LIWA', 'MAN 1 PESAWARAN',\n",
       "       'SMA NEGERI 1 PADANG CERMIN', 'SMAN 1 LIWA', 'SMAN 1 PRINGSEWU',\n",
       "       'SMA NEGERI 1 GUNUNG SUGIH', 'SMA NEGRI 2 KOTAAGUNG',\n",
       "       'SMA N 1 BANDAR MATARAM', 'SMK N 7 BANDAR LAMPUNG',\n",
       "       'SMA N 7 BANDAR LAMPUNG', 'SMK SMTI BANDAR LAMPUNG',\n",
       "       'MAN 1 TANGGAMUS', 'SMA N 01 WAY TENONG', 'SMKN 1 WAY TENONG',\n",
       "       'SMA N 2 KALIANDA', 'SMK YP 96 BUKIT KEMUNING',\n",
       "       'SMA NEGRI 1 KOTA METRO', 'SMA XAVERIUS PRINGSEWU',\n",
       "       'SMAN 17 BANDAR LAMPUNG', 'SMA PERSADA BANDAR LAMPUNG',\n",
       "       'SMA NEGERI 1 KOTA AGUNG', 'SMA N 16 BANDAR LAMPUNG',\n",
       "       'SMK NEGERI 2 METRO', 'SMAN 1 LIMAU', 'SMK N 7 BANDARLAMPUNG',\n",
       "       'SMK HAMPAR BAYDURI', 'SMA NEGERI 1 MUARADUA',\n",
       "       'SMA N 1 BUMI AGUNG', \"SMAS TMI ROUDLATUL QUR'AN METRO\",\n",
       "       'SMA NEGERI 1 BLAMBANGAN UMPU', 'SMA N 2 PADANG CERMIN',\n",
       "       'SMA N 1 ULU BELU', 'SMA N 1 WAY TENONG',\n",
       "       'SMK NEGERI 7 BANDAR LAMPUNG', 'SMAN 1 CUKUH BALAK',\n",
       "       'SEKOLAH MENENGAH KEJURUAN', 'SMAN 1 BANYUMAS',\n",
       "       'SMA NEGERI 1 WAY TENONG', 'SMA N 1 PARDASUKA', 'SMA N 1 KIBANG',\n",
       "       'SMK BUMI NUSANTARA', 'SMA N 1 KOTA AGUNG', 'SMA NEGRI 1 AMBARAWA',\n",
       "       'MAN 3 PALEMBANG', 'SMAN 1 TUMUJAJAR', 'SMK AL QOLAM KOTA AGUNG',\n",
       "       'SMAN 15 BANDAR LAMPUNG', 'SMAN 01 PARDASUKA',\n",
       "       'SMA N 01 AIR NANINGAN', 'SMAN 1 SUKOHARJO', 'MAN 1 METRO',\n",
       "       'SMK KH.GHALIB PRINGSEWU', 'SMA MUHAMMADIYA 01 PRINGSEWU',\n",
       "       'SMA NEGERI 1 ADILUWIH', 'MA AL-MIZAN', 'SMA SYUBBANUL WATHON',\n",
       "       'SMK KH GHOLIB PRINGSEWU', 'SMA MUHAMMADIYAH PRINGSEWU',\n",
       "       'SUPM N KOTA AGUNG', 'SMK KESEHATAN MITRA BANGSA',\n",
       "       'SMA NEGERI 1 BANYUMAS', 'SMK YADIKA PAGELARAN',\n",
       "       'MADRASAH ALIYAH NEGERI 1 OGAN KOMERING ULU SELATAN',\n",
       "       'SMA NEGERI 2 KOTA AGUNG', 'SMA 1 KEDONDONG',\n",
       "       'SMA NEGERI 01 PRINGSEWU', 'SMA NEGERI 1 KEDONDONG',\n",
       "       'SMAN 1 BARADATU', 'SMA NEGERI 2 KOTABUMI\\xa0',\n",
       "       \"MA MA'ARIF KEPUTRAN\", 'SMA N 2 KOTAAGUNG', 'SMAN 1 MENGGALA',\n",
       "       'SMA N 2 PRINGSEWU', 'SMA NEGERI 1 RUMBIA', 'SMAN 1 KRUI',\n",
       "       'SMA NEGERI 4 KOTA TANGERANG',\n",
       "       'SMK FARMASI KESUMA BANGSA BANDAR LAMPUNG', 'SMA N2 PRINGSEWU',\n",
       "       'SMK N 2 METRO', 'PONDOK PESANTREN MA AL FATAH NATAR',\n",
       "       'SMA NEGERI 01 PAGELARAN', 'SMA N 1 SEKINCAU', 'SMAN 2 GADINGREJO',\n",
       "       'SMA N 1 AMBARAWA', 'SMA N 1 GADING REJO',\n",
       "       'SMA PERINTIS 2 BANDAR LAMPUNG', 'SMA N 1 BUKIT KEMUNING',\n",
       "       'SMAN 1 TANJUNG RAJA', 'SMAN 1 BANJAR AGUNG',\n",
       "       'SMA NEGRI 1 PRINGSEWU', 'SMK MUHAMMADIYAH BELITANG',\n",
       "       'SMA NEGERI 1 AMBARAWA', 'SMK MUHAMMADIYAH METRO', 'MA MA’ARIF 5',\n",
       "       'SMAN 2 GEDONG TATAAN', 'SMA PELITA BANDAR LAMPUNG',\n",
       "       'SMA N 1 GEDUNG MENENG', 'SMA N 1 SEPUTIH MATARAM',\n",
       "       'SMAN 1 GEDUNG MENENG', 'SMK2 MEI BANDAR LAMPUNG',\n",
       "       'SMKN 1 BARADATU', 'SMA N 1 WAY BUNGUR', 'SMA N 1 TERBANGGI BESAR'],\n",
       "      dtype=object)"
      ]
     },
     "execution_count": 105,
     "metadata": {},
     "output_type": "execute_result"
    }
   ],
   "source": [
    "df['Asal Sekolah'].unique()"
   ]
  },
  {
   "cell_type": "code",
   "execution_count": 107,
   "id": "d4738848-428c-4f21-960c-57d6637ccdc1",
   "metadata": {
    "tags": []
   },
   "outputs": [
    {
     "data": {
      "text/plain": [
       "array(['Wiraswasta', 'Buruh', 'Petani', 'Pedagang', 'Karyawan Swasta',\n",
       "       'PNS', 'Nelayan', 'Pensiunan', 'Wirausaha', 'Sudah Meninggal'],\n",
       "      dtype=object)"
      ]
     },
     "execution_count": 107,
     "metadata": {},
     "output_type": "execute_result"
    }
   ],
   "source": [
    "df['Pekerjaan Orang Tua'].unique()"
   ]
  },
  {
   "cell_type": "code",
   "execution_count": null,
   "id": "e87ca655-5dda-4aee-a03c-e268af4a8ab8",
   "metadata": {},
   "outputs": [],
   "source": []
  }
 ],
 "metadata": {
  "kernelspec": {
   "display_name": "Python 3 (ipykernel)",
   "language": "python",
   "name": "python3"
  },
  "language_info": {
   "codemirror_mode": {
    "name": "ipython",
    "version": 3
   },
   "file_extension": ".py",
   "mimetype": "text/x-python",
   "name": "python",
   "nbconvert_exporter": "python",
   "pygments_lexer": "ipython3",
   "version": "3.11.4"
  }
 },
 "nbformat": 4,
 "nbformat_minor": 5
}

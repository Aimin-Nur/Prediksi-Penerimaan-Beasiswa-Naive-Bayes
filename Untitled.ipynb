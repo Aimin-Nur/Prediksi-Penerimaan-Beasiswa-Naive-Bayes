{
 "cells": [
  {
   "cell_type": "markdown",
   "id": "016e020f-b15a-44f6-9f96-3c2c1cb16a7f",
   "metadata": {},
   "source": [
    "# Prediksi Penerimaan Beasiswa - Naive Byes"
   ]
  },
  {
   "cell_type": "code",
   "execution_count": 2,
   "id": "03609add-a985-4e71-a6a9-e2ed88e913ff",
   "metadata": {
    "tags": []
   },
   "outputs": [],
   "source": [
    "import pandas as pd\n",
    "import matplotlib.pyplot as plt\n",
    "import seaborn as sns\n",
    "import numpy as np"
   ]
  },
  {
   "cell_type": "code",
   "execution_count": 3,
   "id": "da2bd18a-f925-48ed-a48c-b868177e918a",
   "metadata": {
    "tags": []
   },
   "outputs": [],
   "source": [
    "df = pd.read_csv('beasiswa.csv')"
   ]
  },
  {
   "cell_type": "code",
   "execution_count": 4,
   "id": "b4765322-5bdf-47b3-80af-8a3ca21bfada",
   "metadata": {
    "tags": []
   },
   "outputs": [
    {
     "data": {
      "text/html": [
       "<div>\n",
       "<style scoped>\n",
       "    .dataframe tbody tr th:only-of-type {\n",
       "        vertical-align: middle;\n",
       "    }\n",
       "\n",
       "    .dataframe tbody tr th {\n",
       "        vertical-align: top;\n",
       "    }\n",
       "\n",
       "    .dataframe thead th {\n",
       "        text-align: right;\n",
       "    }\n",
       "</style>\n",
       "<table border=\"1\" class=\"dataframe\">\n",
       "  <thead>\n",
       "    <tr style=\"text-align: right;\">\n",
       "      <th></th>\n",
       "      <th>No</th>\n",
       "      <th>Nama Lengkap</th>\n",
       "      <th>Prodi</th>\n",
       "      <th>Jenis Kelamin</th>\n",
       "      <th>Jarak Tempat Tinggal kekampus (Km)</th>\n",
       "      <th>Asal Sekolah</th>\n",
       "      <th>Tahun Lulus</th>\n",
       "      <th>SKS</th>\n",
       "      <th>Ikut Organisasi</th>\n",
       "      <th>Ikut UKM</th>\n",
       "      <th>IPK</th>\n",
       "      <th>IPK2</th>\n",
       "      <th>Pekerjaan Orang Tua</th>\n",
       "      <th>Penghasilan</th>\n",
       "      <th>Tanggungan</th>\n",
       "      <th>Status Beasiswa</th>\n",
       "    </tr>\n",
       "  </thead>\n",
       "  <tbody>\n",
       "    <tr>\n",
       "      <th>0</th>\n",
       "      <td>1</td>\n",
       "      <td>GALAN PRASETIO</td>\n",
       "      <td>D III Keperawatan | Reguler</td>\n",
       "      <td>L</td>\n",
       "      <td>Dekat</td>\n",
       "      <td>SMAN 1 GEDONG TATAAN</td>\n",
       "      <td>2020</td>\n",
       "      <td>21</td>\n",
       "      <td>Ikut</td>\n",
       "      <td>Ikut</td>\n",
       "      <td>3,57</td>\n",
       "      <td>Sangat Baik</td>\n",
       "      <td>Wiraswasta</td>\n",
       "      <td>Sedang</td>\n",
       "      <td>4</td>\n",
       "      <td>NaN</td>\n",
       "    </tr>\n",
       "    <tr>\n",
       "      <th>1</th>\n",
       "      <td>2</td>\n",
       "      <td>FINGKY RANDIANSYAH</td>\n",
       "      <td>D III Keperawatan | Reguler</td>\n",
       "      <td>L</td>\n",
       "      <td>Dekat</td>\n",
       "      <td>SMK HAMPAR BAIDURI</td>\n",
       "      <td>2020</td>\n",
       "      <td>21</td>\n",
       "      <td>Tidak</td>\n",
       "      <td>Ikut</td>\n",
       "      <td>2,95</td>\n",
       "      <td>Baik</td>\n",
       "      <td>Buruh</td>\n",
       "      <td>Sedang</td>\n",
       "      <td>2</td>\n",
       "      <td>NaN</td>\n",
       "    </tr>\n",
       "    <tr>\n",
       "      <th>2</th>\n",
       "      <td>3</td>\n",
       "      <td>ADELIA PANE</td>\n",
       "      <td>D III Keperawatan | Reguler</td>\n",
       "      <td>P</td>\n",
       "      <td>Dekat</td>\n",
       "      <td>SMK HAMPAR BAIDURI</td>\n",
       "      <td>2020</td>\n",
       "      <td>21</td>\n",
       "      <td>Tidak</td>\n",
       "      <td>Ikut</td>\n",
       "      <td>3,67</td>\n",
       "      <td>Sangat Baik</td>\n",
       "      <td>Petani</td>\n",
       "      <td>Sedang</td>\n",
       "      <td>4</td>\n",
       "      <td>NaN</td>\n",
       "    </tr>\n",
       "    <tr>\n",
       "      <th>3</th>\n",
       "      <td>4</td>\n",
       "      <td>DWI HANDOKO</td>\n",
       "      <td>D III Keperawatan | Reguler</td>\n",
       "      <td>L</td>\n",
       "      <td>Dekat</td>\n",
       "      <td>SMA MA'ARIF NU BUMIRESTU</td>\n",
       "      <td>2020</td>\n",
       "      <td>21</td>\n",
       "      <td>Tidak</td>\n",
       "      <td>Ikut</td>\n",
       "      <td>3,19</td>\n",
       "      <td>Baik</td>\n",
       "      <td>Wiraswasta</td>\n",
       "      <td>Tinggi</td>\n",
       "      <td>2</td>\n",
       "      <td>NaN</td>\n",
       "    </tr>\n",
       "    <tr>\n",
       "      <th>4</th>\n",
       "      <td>5</td>\n",
       "      <td>DESTRI FERAWANTI GUSTINI</td>\n",
       "      <td>D III Keperawatan | Reguler</td>\n",
       "      <td>P</td>\n",
       "      <td>Jauh</td>\n",
       "      <td>SMA 2 NEGERI AGUNG</td>\n",
       "      <td>2020</td>\n",
       "      <td>21</td>\n",
       "      <td>Tidak</td>\n",
       "      <td>Ikut</td>\n",
       "      <td>3,19</td>\n",
       "      <td>Baik</td>\n",
       "      <td>Wiraswasta</td>\n",
       "      <td>Sedang</td>\n",
       "      <td>2</td>\n",
       "      <td>NaN</td>\n",
       "    </tr>\n",
       "  </tbody>\n",
       "</table>\n",
       "</div>"
      ],
      "text/plain": [
       "   No              Nama Lengkap                        Prodi Jenis Kelamin  \\\n",
       "0   1            GALAN PRASETIO  D III Keperawatan | Reguler             L   \n",
       "1   2        FINGKY RANDIANSYAH  D III Keperawatan | Reguler             L   \n",
       "2   3               ADELIA PANE  D III Keperawatan | Reguler             P   \n",
       "3   4               DWI HANDOKO  D III Keperawatan | Reguler             L   \n",
       "4   5  DESTRI FERAWANTI GUSTINI  D III Keperawatan | Reguler             P   \n",
       "\n",
       "  Jarak Tempat Tinggal kekampus (Km)              Asal Sekolah  Tahun Lulus  \\\n",
       "0                              Dekat      SMAN 1 GEDONG TATAAN         2020   \n",
       "1                              Dekat        SMK HAMPAR BAIDURI         2020   \n",
       "2                              Dekat        SMK HAMPAR BAIDURI         2020   \n",
       "3                              Dekat  SMA MA'ARIF NU BUMIRESTU         2020   \n",
       "4                               Jauh        SMA 2 NEGERI AGUNG         2020   \n",
       "\n",
       "   SKS Ikut Organisasi Ikut UKM   IPK         IPK2 Pekerjaan Orang Tua  \\\n",
       "0   21            Ikut     Ikut  3,57  Sangat Baik          Wiraswasta   \n",
       "1   21           Tidak     Ikut  2,95         Baik               Buruh   \n",
       "2   21           Tidak     Ikut  3,67  Sangat Baik              Petani   \n",
       "3   21           Tidak     Ikut  3,19         Baik          Wiraswasta   \n",
       "4   21           Tidak     Ikut  3,19         Baik          Wiraswasta   \n",
       "\n",
       "  Penghasilan  Tanggungan  Status Beasiswa  \n",
       "0      Sedang           4              NaN  \n",
       "1      Sedang           2              NaN  \n",
       "2      Sedang           4              NaN  \n",
       "3      Tinggi           2              NaN  \n",
       "4      Sedang           2              NaN  "
      ]
     },
     "execution_count": 4,
     "metadata": {},
     "output_type": "execute_result"
    }
   ],
   "source": [
    "df.head()"
   ]
  },
  {
   "cell_type": "markdown",
   "id": "b92cfee5-518f-400f-8243-698afe207731",
   "metadata": {},
   "source": [
    "### Data Cleaning"
   ]
  },
  {
   "cell_type": "code",
   "execution_count": 5,
   "id": "7c9dbd0b-8bd9-4c24-82c4-8c6e5fbaa91d",
   "metadata": {
    "tags": []
   },
   "outputs": [
    {
     "data": {
      "text/plain": [
       "No                                      0\n",
       "Nama Lengkap                            0\n",
       "Prodi                                   0\n",
       "Jenis Kelamin                           0\n",
       "Jarak Tempat Tinggal kekampus (Km)      0\n",
       "Asal Sekolah                            0\n",
       "Tahun Lulus                             0\n",
       "SKS                                     0\n",
       "Ikut Organisasi                         0\n",
       "Ikut UKM                                0\n",
       "IPK                                     0\n",
       "IPK2                                    0\n",
       "Pekerjaan Orang Tua                     0\n",
       "Penghasilan                             0\n",
       "Tanggungan                              0\n",
       "Status Beasiswa                       596\n",
       "dtype: int64"
      ]
     },
     "execution_count": 5,
     "metadata": {},
     "output_type": "execute_result"
    }
   ],
   "source": [
    "df.isna().sum()"
   ]
  },
  {
   "cell_type": "code",
   "execution_count": 6,
   "id": "6bcf81aa-e3ff-4d6f-a177-fadb1a64c2e2",
   "metadata": {
    "tags": []
   },
   "outputs": [
    {
     "data": {
      "text/plain": [
       "(596, 16)"
      ]
     },
     "execution_count": 6,
     "metadata": {},
     "output_type": "execute_result"
    }
   ],
   "source": [
    "df.shape"
   ]
  },
  {
   "cell_type": "code",
   "execution_count": 7,
   "id": "a10205fb-f112-4743-bf80-91c34f7f58e0",
   "metadata": {
    "tags": []
   },
   "outputs": [
    {
     "name": "stdout",
     "output_type": "stream",
     "text": [
      "<class 'pandas.core.frame.DataFrame'>\n",
      "RangeIndex: 596 entries, 0 to 595\n",
      "Data columns (total 16 columns):\n",
      " #   Column                              Non-Null Count  Dtype  \n",
      "---  ------                              --------------  -----  \n",
      " 0   No                                  596 non-null    int64  \n",
      " 1   Nama Lengkap                        596 non-null    object \n",
      " 2   Prodi                               596 non-null    object \n",
      " 3   Jenis Kelamin                       596 non-null    object \n",
      " 4   Jarak Tempat Tinggal kekampus (Km)  596 non-null    object \n",
      " 5   Asal Sekolah                        596 non-null    object \n",
      " 6   Tahun Lulus                         596 non-null    int64  \n",
      " 7   SKS                                 596 non-null    int64  \n",
      " 8   Ikut Organisasi                     596 non-null    object \n",
      " 9   Ikut UKM                            596 non-null    object \n",
      " 10  IPK                                 596 non-null    object \n",
      " 11  IPK2                                596 non-null    object \n",
      " 12  Pekerjaan Orang Tua                 596 non-null    object \n",
      " 13  Penghasilan                         596 non-null    object \n",
      " 14  Tanggungan                          596 non-null    int64  \n",
      " 15  Status Beasiswa                     0 non-null      float64\n",
      "dtypes: float64(1), int64(4), object(11)\n",
      "memory usage: 74.6+ KB\n"
     ]
    }
   ],
   "source": [
    "df.info()"
   ]
  },
  {
   "cell_type": "code",
   "execution_count": 8,
   "id": "3bc5d502-52ef-438f-b499-04eb782db908",
   "metadata": {
    "tags": []
   },
   "outputs": [
    {
     "data": {
      "text/plain": [
       "0      False\n",
       "1      False\n",
       "2      False\n",
       "3      False\n",
       "4      False\n",
       "       ...  \n",
       "591    False\n",
       "592    False\n",
       "593    False\n",
       "594    False\n",
       "595    False\n",
       "Length: 596, dtype: bool"
      ]
     },
     "execution_count": 8,
     "metadata": {},
     "output_type": "execute_result"
    }
   ],
   "source": [
    "df.duplicated()"
   ]
  },
  {
   "cell_type": "markdown",
   "id": "e60203fe-e06b-44b7-93d5-7159a85b4053",
   "metadata": {
    "tags": []
   },
   "source": [
    "### Exploratory Data Analysis"
   ]
  },
  {
   "cell_type": "code",
   "execution_count": null,
   "id": "ecdb6d67-cba2-4e4b-a7ce-57abe053a497",
   "metadata": {},
   "outputs": [],
   "source": []
  }
 ],
 "metadata": {
  "kernelspec": {
   "display_name": "Python 3 (ipykernel)",
   "language": "python",
   "name": "python3"
  },
  "language_info": {
   "codemirror_mode": {
    "name": "ipython",
    "version": 3
   },
   "file_extension": ".py",
   "mimetype": "text/x-python",
   "name": "python",
   "nbconvert_exporter": "python",
   "pygments_lexer": "ipython3",
   "version": "3.11.4"
  }
 },
 "nbformat": 4,
 "nbformat_minor": 5
}
